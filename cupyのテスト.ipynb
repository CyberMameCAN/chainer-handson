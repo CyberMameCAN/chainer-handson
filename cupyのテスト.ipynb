{
 "cells": [
  {
   "cell_type": "code",
   "execution_count": 1,
   "metadata": {
    "scrolled": true
   },
   "outputs": [
    {
     "ename": "ModuleNotFoundError",
     "evalue": "No module named 'cupy'",
     "output_type": "error",
     "traceback": [
      "\u001b[0;31m---------------------------------------------------------------------------\u001b[0m",
      "\u001b[0;31mModuleNotFoundError\u001b[0m                       Traceback (most recent call last)",
      "Input \u001b[0;32mIn [1]\u001b[0m, in \u001b[0;36m<cell line: 2>\u001b[0;34m()\u001b[0m\n\u001b[1;32m      1\u001b[0m \u001b[38;5;28;01mimport\u001b[39;00m \u001b[38;5;21;01mnumpy\u001b[39;00m \u001b[38;5;28;01mas\u001b[39;00m \u001b[38;5;21;01mnp\u001b[39;00m\n\u001b[0;32m----> 2\u001b[0m \u001b[38;5;28;01mimport\u001b[39;00m \u001b[38;5;21;01mcupy\u001b[39;00m \u001b[38;5;28;01mas\u001b[39;00m \u001b[38;5;21;01mcp\u001b[39;00m\n",
      "\u001b[0;31mModuleNotFoundError\u001b[0m: No module named 'cupy'"
     ]
    }
   ],
   "source": [
    "import numpy as np\n",
    "import cupy as cp"
   ]
  },
  {
   "cell_type": "code",
   "execution_count": 2,
   "metadata": {},
   "outputs": [],
   "source": [
    "def get_w_np(x, t):\n",
    "    xx = np.dot(x.T, x)\n",
    "    xx_inv = np.linalg.inv(xx)\n",
    "    xt = np.dot(x.T, t)\n",
    "    w = np.dot(xx_inv, xt)\n",
    "    \n",
    "    return w"
   ]
  },
  {
   "cell_type": "code",
   "execution_count": 3,
   "metadata": {},
   "outputs": [
    {
     "name": "stdout",
     "output_type": "stream",
     "text": [
      "[[ 1.21905126]\n",
      " [-9.57469376]\n",
      " [-4.71085668]\n",
      " [ 2.2018679 ]\n",
      " [ 4.75154242]\n",
      " [-1.04190331]\n",
      " [ 0.33090009]\n",
      " [-2.57911227]\n",
      " [ 4.78278976]\n",
      " [ 9.01228658]]\n"
     ]
    }
   ],
   "source": [
    "# 一番小さいサイズの行列の準備\n",
    "N = 10\n",
    "\n",
    "x = np.random.rand(N, N)\n",
    "t = np.random.rand(N, 1)\n",
    "w = get_w_np(x, t)\n",
    "\n",
    "print(w)"
   ]
  },
  {
   "cell_type": "code",
   "execution_count": 4,
   "metadata": {},
   "outputs": [
    {
     "name": "stdout",
     "output_type": "stream",
     "text": [
      "0.00039 sec\n"
     ]
    }
   ],
   "source": [
    "import time\n",
    "\n",
    "time_start = time.time()\n",
    "\n",
    "w = get_w_np(x, t)\n",
    "\n",
    "time_end = time.time()\n",
    "\n",
    "elapsed_time = time_end - time_start\n",
    "\n",
    "print('{:.5f} sec'.format(elapsed_time))"
   ]
  },
  {
   "cell_type": "code",
   "execution_count": 5,
   "metadata": {},
   "outputs": [
    {
     "name": "stdout",
     "output_type": "stream",
     "text": [
      "N=   10: 0.00250 sec\n",
      "N=  100: 0.04500 sec\n",
      "N= 1000: 0.07155 sec\n",
      "N=10000:19.98860 sec\n"
     ]
    }
   ],
   "source": [
    "times_cpu = []\n",
    "\n",
    "for N in [10, 100, 1000, 10000]:\n",
    "    np.random.seed(0)\n",
    "    x = np.random.rand(N, N)\n",
    "    t = np.random.rand(N, 1)\n",
    "\n",
    "    time_start = time.time()\n",
    "\n",
    "    w = get_w_np(x, t)\n",
    "\n",
    "    time_end = time.time()\n",
    "\n",
    "    elapsed_time = time_end - time_start\n",
    "    \n",
    "    print('N={:>5}:{:8.5f} sec'.format(N, elapsed_time))\n",
    "    \n",
    "    times_cpu.append(elapsed_time)"
   ]
  },
  {
   "cell_type": "code",
   "execution_count": 6,
   "metadata": {},
   "outputs": [],
   "source": [
    "# Cupyでは\n",
    "def get_w_cp(x, t):\n",
    "    xx = cp.dot(x.T, x)\n",
    "    xx_inv = cp.linalg.inv(xx)\n",
    "    xt = cp.dot(x.T, t)\n",
    "    w = cp.dot(xx_inv, xt)\n",
    "    \n",
    "    return w"
   ]
  },
  {
   "cell_type": "code",
   "execution_count": 7,
   "metadata": {},
   "outputs": [],
   "source": [
    "# NumPy を用いた乱数生成\n",
    "N = 10\n",
    "x_np = np.random.rand(N, N)\n",
    "t_np = np.random.rand(N, 1)\n",
    "\n",
    "# NumPy の ndarray から CuPy の ndarray へ変換\n",
    "x_cp = cp.asarray(x_np)\n",
    "t_cp = cp.asarray(t_np)"
   ]
  },
  {
   "cell_type": "code",
   "execution_count": 8,
   "metadata": {},
   "outputs": [
    {
     "name": "stdout",
     "output_type": "stream",
     "text": [
      "NumPy:\n",
      " [[ 3.10913241]\n",
      " [-4.32028319]\n",
      " [ 1.09894125]\n",
      " [ 1.63321226]\n",
      " [ 1.25977854]\n",
      " [-0.89789306]\n",
      " [-0.87023945]\n",
      " [ 1.09654016]\n",
      " [ 1.19753311]\n",
      " [-1.3647516 ]]\n",
      "\n",
      "CuPy:\n",
      " [[ 3.10913241]\n",
      " [-4.32028319]\n",
      " [ 1.09894125]\n",
      " [ 1.63321226]\n",
      " [ 1.25977854]\n",
      " [-0.89789306]\n",
      " [-0.87023945]\n",
      " [ 1.09654016]\n",
      " [ 1.19753311]\n",
      " [-1.3647516 ]]\n"
     ]
    }
   ],
   "source": [
    "# Numpy\n",
    "w_np = get_w_np(x_np, t_np)\n",
    "\n",
    "# Cupy\n",
    "w_cp = get_w_cp(x_cp, t_cp)\n",
    "\n",
    "print('NumPy:\\n', w_np)\n",
    "print('\\nCuPy:\\n', w_cp)"
   ]
  },
  {
   "cell_type": "code",
   "execution_count": 9,
   "metadata": {},
   "outputs": [
    {
     "name": "stdout",
     "output_type": "stream",
     "text": [
      "[[0. 0. 0. 0. 0. 0. 0. 0. 0. 0.]\n",
      " [0. 0. 0. 0. 0. 0. 0. 0. 0. 0.]\n",
      " [0. 0. 0. 0. 0. 0. 0. 0. 0. 0.]\n",
      " [0. 0. 0. 0. 0. 0. 0. 0. 0. 0.]\n",
      " [0. 0. 0. 0. 0. 0. 0. 0. 0. 0.]\n",
      " [0. 0. 0. 0. 0. 0. 0. 0. 0. 0.]\n",
      " [0. 0. 0. 0. 0. 0. 0. 0. 0. 0.]\n",
      " [0. 0. 0. 0. 0. 0. 0. 0. 0. 0.]\n",
      " [0. 0. 0. 0. 0. 0. 0. 0. 0. 0.]\n",
      " [0. 0. 0. 0. 0. 0. 0. 0. 0. 0.]]\n"
     ]
    }
   ],
   "source": [
    "x_cpu= np.zeros((10, 10))\n",
    "x_gpu=cp.asarray(x_cpu) # copy CPU to GPU\n",
    "x_cpu= cp.asnumpy(x_gpu) # copy GPU to CPU\n",
    "print(x_gpu** 2) # square on GPU by basic math\n",
    "xp=cp.get_array_module(x_gpu) # get `np` or `cp`print(xp.square(x_gpu))"
   ]
  },
  {
   "cell_type": "code",
   "execution_count": null,
   "metadata": {},
   "outputs": [],
   "source": []
  }
 ],
 "metadata": {
  "kernelspec": {
   "display_name": "Python 3 (ipykernel)",
   "language": "python",
   "name": "python3"
  },
  "language_info": {
   "codemirror_mode": {
    "name": "ipython",
    "version": 3
   },
   "file_extension": ".py",
   "mimetype": "text/x-python",
   "name": "python",
   "nbconvert_exporter": "python",
   "pygments_lexer": "ipython3",
   "version": "3.10.4"
  }
 },
 "nbformat": 4,
 "nbformat_minor": 4
}
