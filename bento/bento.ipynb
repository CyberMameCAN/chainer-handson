{
 "cells": [
  {
   "cell_type": "code",
   "execution_count": 1,
   "id": "44dba1b6",
   "metadata": {},
   "outputs": [],
   "source": [
    "import chainer\n",
    "import pandas as pd"
   ]
  },
  {
   "cell_type": "code",
   "execution_count": 2,
   "id": "edef4775",
   "metadata": {},
   "outputs": [
    {
     "name": "stdout",
     "output_type": "stream",
     "text": [
      "Platform: Linux-5.4.0-77-generic-x86_64-with-Ubuntu-18.04-bionic\n",
      "Chainer: 7.8.0\n",
      "ChainerX: Not Available\n",
      "NumPy: 1.19.5\n",
      "CuPy:\n",
      "  CuPy Version          : 7.8.0\n",
      "  CUDA Root             : /usr/local/cuda\n",
      "  CUDA Build Version    : 10010\n",
      "  CUDA Driver Version   : 11010\n",
      "  CUDA Runtime Version  : 10010\n",
      "  cuBLAS Version        : 10201\n",
      "  cuFFT Version         : 10101\n",
      "  cuRAND Version        : 10101\n",
      "  cuSOLVER Version      : (10, 2, 0)\n",
      "  cuSPARSE Version      : 10300\n",
      "  NVRTC Version         : (10, 1)\n",
      "  cuDNN Build Version   : 7605\n",
      "  cuDNN Version         : 7605\n",
      "  NCCL Build Version    : 2708\n",
      "  NCCL Runtime Version  : 2708\n",
      "  CUB Version           : None\n",
      "  cuTENSOR Version      : None\n",
      "iDeep: Not Available\n"
     ]
    }
   ],
   "source": [
    "chainer.print_runtime_info()"
   ]
  },
  {
   "cell_type": "code",
   "execution_count": 3,
   "id": "3018fba1",
   "metadata": {},
   "outputs": [],
   "source": [
    "train = pd.read_csv('train.csv')\n",
    "test = pd.read_csv('test.csv')\n",
    "sample = pd.read_csv('sample.csv', header=None)"
   ]
  },
  {
   "cell_type": "code",
   "execution_count": 4,
   "id": "f1e540f1",
   "metadata": {},
   "outputs": [
    {
     "data": {
      "text/plain": [
       "Index(['datetime', 'y', 'week', 'soldout', 'name', 'kcal', 'remarks', 'event',\n",
       "       'payday', 'weather', 'precipitation', 'temperature'],\n",
       "      dtype='object')"
      ]
     },
     "execution_count": 4,
     "metadata": {},
     "output_type": "execute_result"
    }
   ],
   "source": [
    "train.columns"
   ]
  },
  {
   "cell_type": "code",
   "execution_count": 87,
   "id": "e81ca2ae",
   "metadata": {},
   "outputs": [
    {
     "data": {
      "text/html": [
       "<div>\n",
       "<style scoped>\n",
       "    .dataframe tbody tr th:only-of-type {\n",
       "        vertical-align: middle;\n",
       "    }\n",
       "\n",
       "    .dataframe tbody tr th {\n",
       "        vertical-align: top;\n",
       "    }\n",
       "\n",
       "    .dataframe thead th {\n",
       "        text-align: right;\n",
       "    }\n",
       "</style>\n",
       "<table border=\"1\" class=\"dataframe\">\n",
       "  <thead>\n",
       "    <tr style=\"text-align: right;\">\n",
       "      <th></th>\n",
       "      <th>datetime</th>\n",
       "      <th>y</th>\n",
       "      <th>week</th>\n",
       "      <th>soldout</th>\n",
       "      <th>name</th>\n",
       "      <th>kcal</th>\n",
       "      <th>remarks</th>\n",
       "      <th>payday</th>\n",
       "      <th>weather</th>\n",
       "      <th>precipitation</th>\n",
       "      <th>temperature</th>\n",
       "      <th>fun</th>\n",
       "      <th>in_curry</th>\n",
       "      <th>event_キャリアアップ支援セミナー</th>\n",
       "      <th>event_ママの会</th>\n",
       "      <th>event_nan</th>\n",
       "    </tr>\n",
       "  </thead>\n",
       "  <tbody>\n",
       "    <tr>\n",
       "      <th>0</th>\n",
       "      <td>2013-11-18</td>\n",
       "      <td>90</td>\n",
       "      <td>月</td>\n",
       "      <td>0</td>\n",
       "      <td>厚切りイカフライ</td>\n",
       "      <td>NaN</td>\n",
       "      <td>NaN</td>\n",
       "      <td>0.0</td>\n",
       "      <td>快晴</td>\n",
       "      <td>0</td>\n",
       "      <td>19.8</td>\n",
       "      <td>0</td>\n",
       "      <td>0</td>\n",
       "      <td>0</td>\n",
       "      <td>0</td>\n",
       "      <td>1</td>\n",
       "    </tr>\n",
       "    <tr>\n",
       "      <th>1</th>\n",
       "      <td>2013-11-19</td>\n",
       "      <td>101</td>\n",
       "      <td>火</td>\n",
       "      <td>1</td>\n",
       "      <td>手作りヒレカツ</td>\n",
       "      <td>NaN</td>\n",
       "      <td>NaN</td>\n",
       "      <td>0.0</td>\n",
       "      <td>快晴</td>\n",
       "      <td>0</td>\n",
       "      <td>17.0</td>\n",
       "      <td>0</td>\n",
       "      <td>0</td>\n",
       "      <td>0</td>\n",
       "      <td>0</td>\n",
       "      <td>1</td>\n",
       "    </tr>\n",
       "    <tr>\n",
       "      <th>2</th>\n",
       "      <td>2013-11-20</td>\n",
       "      <td>118</td>\n",
       "      <td>水</td>\n",
       "      <td>0</td>\n",
       "      <td>白身魚唐揚げ野菜あん</td>\n",
       "      <td>NaN</td>\n",
       "      <td>NaN</td>\n",
       "      <td>0.0</td>\n",
       "      <td>快晴</td>\n",
       "      <td>0</td>\n",
       "      <td>15.5</td>\n",
       "      <td>0</td>\n",
       "      <td>0</td>\n",
       "      <td>0</td>\n",
       "      <td>0</td>\n",
       "      <td>1</td>\n",
       "    </tr>\n",
       "    <tr>\n",
       "      <th>3</th>\n",
       "      <td>2013-11-21</td>\n",
       "      <td>120</td>\n",
       "      <td>木</td>\n",
       "      <td>1</td>\n",
       "      <td>若鶏ピリ辛焼</td>\n",
       "      <td>NaN</td>\n",
       "      <td>NaN</td>\n",
       "      <td>0.0</td>\n",
       "      <td>快晴</td>\n",
       "      <td>0</td>\n",
       "      <td>15.2</td>\n",
       "      <td>0</td>\n",
       "      <td>0</td>\n",
       "      <td>0</td>\n",
       "      <td>0</td>\n",
       "      <td>1</td>\n",
       "    </tr>\n",
       "    <tr>\n",
       "      <th>4</th>\n",
       "      <td>2013-11-22</td>\n",
       "      <td>130</td>\n",
       "      <td>金</td>\n",
       "      <td>1</td>\n",
       "      <td>ビッグメンチカツ</td>\n",
       "      <td>NaN</td>\n",
       "      <td>NaN</td>\n",
       "      <td>0.0</td>\n",
       "      <td>快晴</td>\n",
       "      <td>0</td>\n",
       "      <td>16.1</td>\n",
       "      <td>0</td>\n",
       "      <td>0</td>\n",
       "      <td>0</td>\n",
       "      <td>0</td>\n",
       "      <td>1</td>\n",
       "    </tr>\n",
       "    <tr>\n",
       "      <th>...</th>\n",
       "      <td>...</td>\n",
       "      <td>...</td>\n",
       "      <td>...</td>\n",
       "      <td>...</td>\n",
       "      <td>...</td>\n",
       "      <td>...</td>\n",
       "      <td>...</td>\n",
       "      <td>...</td>\n",
       "      <td>...</td>\n",
       "      <td>...</td>\n",
       "      <td>...</td>\n",
       "      <td>...</td>\n",
       "      <td>...</td>\n",
       "      <td>...</td>\n",
       "      <td>...</td>\n",
       "      <td>...</td>\n",
       "    </tr>\n",
       "    <tr>\n",
       "      <th>202</th>\n",
       "      <td>2014-9-24</td>\n",
       "      <td>59</td>\n",
       "      <td>水</td>\n",
       "      <td>1</td>\n",
       "      <td>白身魚のマスタード焼き</td>\n",
       "      <td>408.0</td>\n",
       "      <td>NaN</td>\n",
       "      <td>0.0</td>\n",
       "      <td>曇</td>\n",
       "      <td>0</td>\n",
       "      <td>24.8</td>\n",
       "      <td>0</td>\n",
       "      <td>0</td>\n",
       "      <td>0</td>\n",
       "      <td>0</td>\n",
       "      <td>1</td>\n",
       "    </tr>\n",
       "    <tr>\n",
       "      <th>203</th>\n",
       "      <td>2014-9-25</td>\n",
       "      <td>50</td>\n",
       "      <td>木</td>\n",
       "      <td>0</td>\n",
       "      <td>牛カルビ焼き肉</td>\n",
       "      <td>394.0</td>\n",
       "      <td>NaN</td>\n",
       "      <td>0.0</td>\n",
       "      <td>曇</td>\n",
       "      <td>0</td>\n",
       "      <td>25.4</td>\n",
       "      <td>0</td>\n",
       "      <td>0</td>\n",
       "      <td>0</td>\n",
       "      <td>0</td>\n",
       "      <td>1</td>\n",
       "    </tr>\n",
       "    <tr>\n",
       "      <th>204</th>\n",
       "      <td>2014-9-26</td>\n",
       "      <td>45</td>\n",
       "      <td>金</td>\n",
       "      <td>0</td>\n",
       "      <td>ランチビュッフェ</td>\n",
       "      <td>NaN</td>\n",
       "      <td>スペシャルメニュー（800円）</td>\n",
       "      <td>0.0</td>\n",
       "      <td>晴れ</td>\n",
       "      <td>0</td>\n",
       "      <td>27.1</td>\n",
       "      <td>0</td>\n",
       "      <td>0</td>\n",
       "      <td>1</td>\n",
       "      <td>0</td>\n",
       "      <td>0</td>\n",
       "    </tr>\n",
       "    <tr>\n",
       "      <th>205</th>\n",
       "      <td>2014-9-29</td>\n",
       "      <td>56</td>\n",
       "      <td>月</td>\n",
       "      <td>1</td>\n",
       "      <td>豚肉と玉子の炒め</td>\n",
       "      <td>404.0</td>\n",
       "      <td>NaN</td>\n",
       "      <td>0.0</td>\n",
       "      <td>快晴</td>\n",
       "      <td>0</td>\n",
       "      <td>26.6</td>\n",
       "      <td>0</td>\n",
       "      <td>0</td>\n",
       "      <td>0</td>\n",
       "      <td>0</td>\n",
       "      <td>1</td>\n",
       "    </tr>\n",
       "    <tr>\n",
       "      <th>206</th>\n",
       "      <td>2014-9-30</td>\n",
       "      <td>40</td>\n",
       "      <td>火</td>\n",
       "      <td>0</td>\n",
       "      <td>鶏肉とカシューナッツ炒め</td>\n",
       "      <td>398.0</td>\n",
       "      <td>NaN</td>\n",
       "      <td>0.0</td>\n",
       "      <td>快晴</td>\n",
       "      <td>0</td>\n",
       "      <td>28.1</td>\n",
       "      <td>0</td>\n",
       "      <td>0</td>\n",
       "      <td>0</td>\n",
       "      <td>0</td>\n",
       "      <td>1</td>\n",
       "    </tr>\n",
       "  </tbody>\n",
       "</table>\n",
       "<p>207 rows × 16 columns</p>\n",
       "</div>"
      ],
      "text/plain": [
       "       datetime    y week  soldout          name   kcal          remarks  \\\n",
       "0    2013-11-18   90    月        0      厚切りイカフライ    NaN              NaN   \n",
       "1    2013-11-19  101    火        1       手作りヒレカツ    NaN              NaN   \n",
       "2    2013-11-20  118    水        0    白身魚唐揚げ野菜あん    NaN              NaN   \n",
       "3    2013-11-21  120    木        1        若鶏ピリ辛焼    NaN              NaN   \n",
       "4    2013-11-22  130    金        1      ビッグメンチカツ    NaN              NaN   \n",
       "..          ...  ...  ...      ...           ...    ...              ...   \n",
       "202   2014-9-24   59    水        1   白身魚のマスタード焼き  408.0              NaN   \n",
       "203   2014-9-25   50    木        0       牛カルビ焼き肉  394.0              NaN   \n",
       "204   2014-9-26   45    金        0      ランチビュッフェ    NaN  スペシャルメニュー（800円）   \n",
       "205   2014-9-29   56    月        1      豚肉と玉子の炒め  404.0              NaN   \n",
       "206   2014-9-30   40    火        0  鶏肉とカシューナッツ炒め  398.0              NaN   \n",
       "\n",
       "     payday weather precipitation  temperature  fun  in_curry  \\\n",
       "0       0.0      快晴             0         19.8    0         0   \n",
       "1       0.0      快晴             0         17.0    0         0   \n",
       "2       0.0      快晴             0         15.5    0         0   \n",
       "3       0.0      快晴             0         15.2    0         0   \n",
       "4       0.0      快晴             0         16.1    0         0   \n",
       "..      ...     ...           ...          ...  ...       ...   \n",
       "202     0.0       曇             0         24.8    0         0   \n",
       "203     0.0       曇             0         25.4    0         0   \n",
       "204     0.0      晴れ             0         27.1    0         0   \n",
       "205     0.0      快晴             0         26.6    0         0   \n",
       "206     0.0      快晴             0         28.1    0         0   \n",
       "\n",
       "     event_キャリアアップ支援セミナー  event_ママの会  event_nan  \n",
       "0                      0           0          1  \n",
       "1                      0           0          1  \n",
       "2                      0           0          1  \n",
       "3                      0           0          1  \n",
       "4                      0           0          1  \n",
       "..                   ...         ...        ...  \n",
       "202                    0           0          1  \n",
       "203                    0           0          1  \n",
       "204                    1           0          0  \n",
       "205                    0           0          1  \n",
       "206                    0           0          1  \n",
       "\n",
       "[207 rows x 16 columns]"
      ]
     },
     "execution_count": 87,
     "metadata": {},
     "output_type": "execute_result"
    }
   ],
   "source": [
    "train"
   ]
  },
  {
   "cell_type": "code",
   "execution_count": 101,
   "id": "e0caddc9",
   "metadata": {},
   "outputs": [
    {
     "data": {
      "text/plain": [
       "datetime                 0\n",
       "y                        0\n",
       "week                     0\n",
       "soldout                  0\n",
       "name                     0\n",
       "kcal                     0\n",
       "remarks                186\n",
       "payday                   0\n",
       "weather                  0\n",
       "precipitation            0\n",
       "temperature              0\n",
       "fun                      0\n",
       "in_curry                 0\n",
       "event_キャリアアップ支援セミナー      0\n",
       "event_ママの会               0\n",
       "event_nan                0\n",
       "kodawari_menu            0\n",
       "dtype: int64"
      ]
     },
     "execution_count": 101,
     "metadata": {},
     "output_type": "execute_result"
    }
   ],
   "source": [
    "train.isnull().sum()"
   ]
  },
  {
   "cell_type": "code",
   "execution_count": 97,
   "id": "0298c035-4155-4094-bdc9-ad59022274c3",
   "metadata": {},
   "outputs": [],
   "source": [
    "train = train.fillna({'kcal': train['kcal'].mean()})"
   ]
  },
  {
   "cell_type": "code",
   "execution_count": 64,
   "id": "e554bd04-a49c-48cb-89f5-294c6a4af2ad",
   "metadata": {},
   "outputs": [],
   "source": [
    "#train['event'].value_counts()\n",
    "train = pd.get_dummies(train, columns=['event'], dummy_na=True)\n",
    "#pd.get_dummies(df_this_race_data, columns=['所属'])\n",
    "test = pd.get_dummies(test, columns=['event'], dummy_na=True)"
   ]
  },
  {
   "cell_type": "code",
   "execution_count": 52,
   "id": "51d9b06e-a87b-42a8-ad6b-fa195b4dc5b4",
   "metadata": {},
   "outputs": [],
   "source": [
    "train = train.fillna({'payday':0})\n",
    "test = test.fillna({'payday':0})"
   ]
  },
  {
   "cell_type": "code",
   "execution_count": 72,
   "id": "39be1887-05d0-47b2-a0e6-4fcdd8531308",
   "metadata": {},
   "outputs": [
    {
     "data": {
      "text/html": [
       "<div>\n",
       "<style scoped>\n",
       "    .dataframe tbody tr th:only-of-type {\n",
       "        vertical-align: middle;\n",
       "    }\n",
       "\n",
       "    .dataframe tbody tr th {\n",
       "        vertical-align: top;\n",
       "    }\n",
       "\n",
       "    .dataframe thead th {\n",
       "        text-align: right;\n",
       "    }\n",
       "</style>\n",
       "<table border=\"1\" class=\"dataframe\">\n",
       "  <thead>\n",
       "    <tr style=\"text-align: right;\">\n",
       "      <th></th>\n",
       "      <th>y</th>\n",
       "      <th>soldout</th>\n",
       "      <th>kcal</th>\n",
       "      <th>payday</th>\n",
       "      <th>temperature</th>\n",
       "      <th>fun</th>\n",
       "      <th>in_curry</th>\n",
       "      <th>event_キャリアアップ支援セミナー</th>\n",
       "      <th>event_ママの会</th>\n",
       "      <th>event_nan</th>\n",
       "    </tr>\n",
       "  </thead>\n",
       "  <tbody>\n",
       "    <tr>\n",
       "      <th>count</th>\n",
       "      <td>207.000000</td>\n",
       "      <td>207.000000</td>\n",
       "      <td>166.000000</td>\n",
       "      <td>207.000000</td>\n",
       "      <td>207.000000</td>\n",
       "      <td>207.000000</td>\n",
       "      <td>207.000000</td>\n",
       "      <td>207.000000</td>\n",
       "      <td>207.000000</td>\n",
       "      <td>207.000000</td>\n",
       "    </tr>\n",
       "    <tr>\n",
       "      <th>mean</th>\n",
       "      <td>86.623188</td>\n",
       "      <td>0.449275</td>\n",
       "      <td>404.409639</td>\n",
       "      <td>0.048309</td>\n",
       "      <td>19.252174</td>\n",
       "      <td>0.057971</td>\n",
       "      <td>0.082126</td>\n",
       "      <td>0.024155</td>\n",
       "      <td>0.043478</td>\n",
       "      <td>0.932367</td>\n",
       "    </tr>\n",
       "    <tr>\n",
       "      <th>std</th>\n",
       "      <td>32.882448</td>\n",
       "      <td>0.498626</td>\n",
       "      <td>29.884641</td>\n",
       "      <td>0.214939</td>\n",
       "      <td>8.611365</td>\n",
       "      <td>0.234255</td>\n",
       "      <td>0.275222</td>\n",
       "      <td>0.153901</td>\n",
       "      <td>0.204425</td>\n",
       "      <td>0.251724</td>\n",
       "    </tr>\n",
       "    <tr>\n",
       "      <th>min</th>\n",
       "      <td>29.000000</td>\n",
       "      <td>0.000000</td>\n",
       "      <td>315.000000</td>\n",
       "      <td>0.000000</td>\n",
       "      <td>1.200000</td>\n",
       "      <td>0.000000</td>\n",
       "      <td>0.000000</td>\n",
       "      <td>0.000000</td>\n",
       "      <td>0.000000</td>\n",
       "      <td>0.000000</td>\n",
       "    </tr>\n",
       "    <tr>\n",
       "      <th>25%</th>\n",
       "      <td>57.000000</td>\n",
       "      <td>0.000000</td>\n",
       "      <td>386.000000</td>\n",
       "      <td>0.000000</td>\n",
       "      <td>11.550000</td>\n",
       "      <td>0.000000</td>\n",
       "      <td>0.000000</td>\n",
       "      <td>0.000000</td>\n",
       "      <td>0.000000</td>\n",
       "      <td>1.000000</td>\n",
       "    </tr>\n",
       "    <tr>\n",
       "      <th>50%</th>\n",
       "      <td>78.000000</td>\n",
       "      <td>0.000000</td>\n",
       "      <td>408.500000</td>\n",
       "      <td>0.000000</td>\n",
       "      <td>19.800000</td>\n",
       "      <td>0.000000</td>\n",
       "      <td>0.000000</td>\n",
       "      <td>0.000000</td>\n",
       "      <td>0.000000</td>\n",
       "      <td>1.000000</td>\n",
       "    </tr>\n",
       "    <tr>\n",
       "      <th>75%</th>\n",
       "      <td>113.000000</td>\n",
       "      <td>1.000000</td>\n",
       "      <td>426.000000</td>\n",
       "      <td>0.000000</td>\n",
       "      <td>26.100000</td>\n",
       "      <td>0.000000</td>\n",
       "      <td>0.000000</td>\n",
       "      <td>0.000000</td>\n",
       "      <td>0.000000</td>\n",
       "      <td>1.000000</td>\n",
       "    </tr>\n",
       "    <tr>\n",
       "      <th>max</th>\n",
       "      <td>171.000000</td>\n",
       "      <td>1.000000</td>\n",
       "      <td>462.000000</td>\n",
       "      <td>1.000000</td>\n",
       "      <td>34.600000</td>\n",
       "      <td>1.000000</td>\n",
       "      <td>1.000000</td>\n",
       "      <td>1.000000</td>\n",
       "      <td>1.000000</td>\n",
       "      <td>1.000000</td>\n",
       "    </tr>\n",
       "  </tbody>\n",
       "</table>\n",
       "</div>"
      ],
      "text/plain": [
       "                y     soldout        kcal      payday  temperature  \\\n",
       "count  207.000000  207.000000  166.000000  207.000000   207.000000   \n",
       "mean    86.623188    0.449275  404.409639    0.048309    19.252174   \n",
       "std     32.882448    0.498626   29.884641    0.214939     8.611365   \n",
       "min     29.000000    0.000000  315.000000    0.000000     1.200000   \n",
       "25%     57.000000    0.000000  386.000000    0.000000    11.550000   \n",
       "50%     78.000000    0.000000  408.500000    0.000000    19.800000   \n",
       "75%    113.000000    1.000000  426.000000    0.000000    26.100000   \n",
       "max    171.000000    1.000000  462.000000    1.000000    34.600000   \n",
       "\n",
       "              fun    in_curry  event_キャリアアップ支援セミナー  event_ママの会   event_nan  \n",
       "count  207.000000  207.000000           207.000000  207.000000  207.000000  \n",
       "mean     0.057971    0.082126             0.024155    0.043478    0.932367  \n",
       "std      0.234255    0.275222             0.153901    0.204425    0.251724  \n",
       "min      0.000000    0.000000             0.000000    0.000000    0.000000  \n",
       "25%      0.000000    0.000000             0.000000    0.000000    1.000000  \n",
       "50%      0.000000    0.000000             0.000000    0.000000    1.000000  \n",
       "75%      0.000000    0.000000             0.000000    0.000000    1.000000  \n",
       "max      1.000000    1.000000             1.000000    1.000000    1.000000  "
      ]
     },
     "execution_count": 72,
     "metadata": {},
     "output_type": "execute_result"
    }
   ],
   "source": [
    "train.describe()"
   ]
  },
  {
   "cell_type": "code",
   "execution_count": 102,
   "id": "1fb28a88-5f46-4f88-a64e-68e20db7d166",
   "metadata": {},
   "outputs": [
    {
     "name": "stderr",
     "output_type": "stream",
     "text": [
      "/usr/local/lib/python3.6/dist-packages/matplotlib/backends/backend_agg.py:238: RuntimeWarning: Glyph 12461 missing from current font.\n",
      "  font.set_text(s, 0.0, flags=flags)\n",
      "/usr/local/lib/python3.6/dist-packages/matplotlib/backends/backend_agg.py:238: RuntimeWarning: Glyph 12515 missing from current font.\n",
      "  font.set_text(s, 0.0, flags=flags)\n",
      "/usr/local/lib/python3.6/dist-packages/matplotlib/backends/backend_agg.py:238: RuntimeWarning: Glyph 12522 missing from current font.\n",
      "  font.set_text(s, 0.0, flags=flags)\n",
      "/usr/local/lib/python3.6/dist-packages/matplotlib/backends/backend_agg.py:238: RuntimeWarning: Glyph 12450 missing from current font.\n",
      "  font.set_text(s, 0.0, flags=flags)\n",
      "/usr/local/lib/python3.6/dist-packages/matplotlib/backends/backend_agg.py:238: RuntimeWarning: Glyph 12483 missing from current font.\n",
      "  font.set_text(s, 0.0, flags=flags)\n",
      "/usr/local/lib/python3.6/dist-packages/matplotlib/backends/backend_agg.py:238: RuntimeWarning: Glyph 12503 missing from current font.\n",
      "  font.set_text(s, 0.0, flags=flags)\n",
      "/usr/local/lib/python3.6/dist-packages/matplotlib/backends/backend_agg.py:238: RuntimeWarning: Glyph 25903 missing from current font.\n",
      "  font.set_text(s, 0.0, flags=flags)\n",
      "/usr/local/lib/python3.6/dist-packages/matplotlib/backends/backend_agg.py:238: RuntimeWarning: Glyph 25588 missing from current font.\n",
      "  font.set_text(s, 0.0, flags=flags)\n",
      "/usr/local/lib/python3.6/dist-packages/matplotlib/backends/backend_agg.py:238: RuntimeWarning: Glyph 12475 missing from current font.\n",
      "  font.set_text(s, 0.0, flags=flags)\n",
      "/usr/local/lib/python3.6/dist-packages/matplotlib/backends/backend_agg.py:238: RuntimeWarning: Glyph 12511 missing from current font.\n",
      "  font.set_text(s, 0.0, flags=flags)\n",
      "/usr/local/lib/python3.6/dist-packages/matplotlib/backends/backend_agg.py:238: RuntimeWarning: Glyph 12490 missing from current font.\n",
      "  font.set_text(s, 0.0, flags=flags)\n",
      "/usr/local/lib/python3.6/dist-packages/matplotlib/backends/backend_agg.py:238: RuntimeWarning: Glyph 12540 missing from current font.\n",
      "  font.set_text(s, 0.0, flags=flags)\n",
      "/usr/local/lib/python3.6/dist-packages/matplotlib/backends/backend_agg.py:238: RuntimeWarning: Glyph 12510 missing from current font.\n",
      "  font.set_text(s, 0.0, flags=flags)\n",
      "/usr/local/lib/python3.6/dist-packages/matplotlib/backends/backend_agg.py:238: RuntimeWarning: Glyph 12398 missing from current font.\n",
      "  font.set_text(s, 0.0, flags=flags)\n",
      "/usr/local/lib/python3.6/dist-packages/matplotlib/backends/backend_agg.py:238: RuntimeWarning: Glyph 20250 missing from current font.\n",
      "  font.set_text(s, 0.0, flags=flags)\n",
      "/usr/local/lib/python3.6/dist-packages/matplotlib/backends/backend_agg.py:201: RuntimeWarning: Glyph 12461 missing from current font.\n",
      "  font.set_text(s, 0, flags=flags)\n",
      "/usr/local/lib/python3.6/dist-packages/matplotlib/backends/backend_agg.py:201: RuntimeWarning: Glyph 12515 missing from current font.\n",
      "  font.set_text(s, 0, flags=flags)\n",
      "/usr/local/lib/python3.6/dist-packages/matplotlib/backends/backend_agg.py:201: RuntimeWarning: Glyph 12522 missing from current font.\n",
      "  font.set_text(s, 0, flags=flags)\n",
      "/usr/local/lib/python3.6/dist-packages/matplotlib/backends/backend_agg.py:201: RuntimeWarning: Glyph 12450 missing from current font.\n",
      "  font.set_text(s, 0, flags=flags)\n",
      "/usr/local/lib/python3.6/dist-packages/matplotlib/backends/backend_agg.py:201: RuntimeWarning: Glyph 12483 missing from current font.\n",
      "  font.set_text(s, 0, flags=flags)\n",
      "/usr/local/lib/python3.6/dist-packages/matplotlib/backends/backend_agg.py:201: RuntimeWarning: Glyph 12503 missing from current font.\n",
      "  font.set_text(s, 0, flags=flags)\n",
      "/usr/local/lib/python3.6/dist-packages/matplotlib/backends/backend_agg.py:201: RuntimeWarning: Glyph 25903 missing from current font.\n",
      "  font.set_text(s, 0, flags=flags)\n",
      "/usr/local/lib/python3.6/dist-packages/matplotlib/backends/backend_agg.py:201: RuntimeWarning: Glyph 25588 missing from current font.\n",
      "  font.set_text(s, 0, flags=flags)\n",
      "/usr/local/lib/python3.6/dist-packages/matplotlib/backends/backend_agg.py:201: RuntimeWarning: Glyph 12475 missing from current font.\n",
      "  font.set_text(s, 0, flags=flags)\n",
      "/usr/local/lib/python3.6/dist-packages/matplotlib/backends/backend_agg.py:201: RuntimeWarning: Glyph 12511 missing from current font.\n",
      "  font.set_text(s, 0, flags=flags)\n",
      "/usr/local/lib/python3.6/dist-packages/matplotlib/backends/backend_agg.py:201: RuntimeWarning: Glyph 12490 missing from current font.\n",
      "  font.set_text(s, 0, flags=flags)\n",
      "/usr/local/lib/python3.6/dist-packages/matplotlib/backends/backend_agg.py:201: RuntimeWarning: Glyph 12540 missing from current font.\n",
      "  font.set_text(s, 0, flags=flags)\n",
      "/usr/local/lib/python3.6/dist-packages/matplotlib/backends/backend_agg.py:201: RuntimeWarning: Glyph 12510 missing from current font.\n",
      "  font.set_text(s, 0, flags=flags)\n",
      "/usr/local/lib/python3.6/dist-packages/matplotlib/backends/backend_agg.py:201: RuntimeWarning: Glyph 12398 missing from current font.\n",
      "  font.set_text(s, 0, flags=flags)\n",
      "/usr/local/lib/python3.6/dist-packages/matplotlib/backends/backend_agg.py:201: RuntimeWarning: Glyph 20250 missing from current font.\n",
      "  font.set_text(s, 0, flags=flags)\n",
      "/usr/local/lib/python3.6/dist-packages/matplotlib/backends/backend_agg.py:238: RuntimeWarning: Glyph 24321 missing from current font.\n",
      "  font.set_text(s, 0.0, flags=flags)\n",
      "/usr/local/lib/python3.6/dist-packages/matplotlib/backends/backend_agg.py:238: RuntimeWarning: Glyph 24403 missing from current font.\n",
      "  font.set_text(s, 0.0, flags=flags)\n",
      "/usr/local/lib/python3.6/dist-packages/matplotlib/backends/backend_agg.py:238: RuntimeWarning: Glyph 12487 missing from current font.\n",
      "  font.set_text(s, 0.0, flags=flags)\n",
      "/usr/local/lib/python3.6/dist-packages/matplotlib/backends/backend_agg.py:238: RuntimeWarning: Glyph 12479 missing from current font.\n",
      "  font.set_text(s, 0.0, flags=flags)\n",
      "/usr/local/lib/python3.6/dist-packages/matplotlib/backends/backend_agg.py:238: RuntimeWarning: Glyph 12506 missing from current font.\n",
      "  font.set_text(s, 0.0, flags=flags)\n",
      "/usr/local/lib/python3.6/dist-packages/matplotlib/backends/backend_agg.py:238: RuntimeWarning: Glyph 12525 missing from current font.\n",
      "  font.set_text(s, 0.0, flags=flags)\n",
      "/usr/local/lib/python3.6/dist-packages/matplotlib/backends/backend_agg.py:238: RuntimeWarning: Glyph 12488 missing from current font.\n",
      "  font.set_text(s, 0.0, flags=flags)\n",
      "/usr/local/lib/python3.6/dist-packages/matplotlib/backends/backend_agg.py:201: RuntimeWarning: Glyph 24321 missing from current font.\n",
      "  font.set_text(s, 0, flags=flags)\n",
      "/usr/local/lib/python3.6/dist-packages/matplotlib/backends/backend_agg.py:201: RuntimeWarning: Glyph 24403 missing from current font.\n",
      "  font.set_text(s, 0, flags=flags)\n",
      "/usr/local/lib/python3.6/dist-packages/matplotlib/backends/backend_agg.py:201: RuntimeWarning: Glyph 12487 missing from current font.\n",
      "  font.set_text(s, 0, flags=flags)\n",
      "/usr/local/lib/python3.6/dist-packages/matplotlib/backends/backend_agg.py:201: RuntimeWarning: Glyph 12479 missing from current font.\n",
      "  font.set_text(s, 0, flags=flags)\n",
      "/usr/local/lib/python3.6/dist-packages/matplotlib/backends/backend_agg.py:201: RuntimeWarning: Glyph 12506 missing from current font.\n",
      "  font.set_text(s, 0, flags=flags)\n",
      "/usr/local/lib/python3.6/dist-packages/matplotlib/backends/backend_agg.py:201: RuntimeWarning: Glyph 12525 missing from current font.\n",
      "  font.set_text(s, 0, flags=flags)\n",
      "/usr/local/lib/python3.6/dist-packages/matplotlib/backends/backend_agg.py:201: RuntimeWarning: Glyph 12488 missing from current font.\n",
      "  font.set_text(s, 0, flags=flags)\n"
     ]
    },
    {
     "data": {
      "text/plain": [
       "<AxesSubplot:title={'center':'弁当データ ペアプロット'}>"
      ]
     },
     "execution_count": 102,
     "metadata": {},
     "output_type": "execute_result"
    },
    {
     "data": {
      "image/png": "[encoded data removed]",
      "text/plain": [
       "<Figure size 1512x1296 with 2 Axes>"
      ]
     },
     "metadata": {},
     "output_type": "display_data"
    }
   ],
   "source": [
    "import matplotlib.pyplot as plt\n",
    "%matplotlib inline\n",
    "import seaborn as sns; sns.set() # sns.set() ==> グラフの見た目をseabornに合わせる\n",
    "\n",
    "colormap = plt.cm.RdBu\n",
    "plt.figure(figsize=(21, 18))\n",
    "plt.title('弁当データ ペアプロット', y=1.05, size=15)\n",
    "sns.heatmap(train.corr(), linewidths=0.1, vmax=1.0, \n",
    "            square=True, cmap=colormap, linecolor='white', annot=True)"
   ]
  },
  {
   "cell_type": "code",
   "execution_count": 91,
   "id": "ea4b2942-731b-4cc8-8386-28c358261d77",
   "metadata": {},
   "outputs": [
    {
     "data": {
      "text/plain": [
       "お楽しみメニュー                    12\n",
       "料理長のこだわりメニュー                 5\n",
       "鶏のレモンペッパー焼（50食）、カレー（42食）     1\n",
       "スペシャルメニュー（800円）              1\n",
       "手作りの味                        1\n",
       "酢豚（28食）、カレー（85食）             1\n",
       "Name: remarks, dtype: int64"
      ]
     },
     "execution_count": 91,
     "metadata": {},
     "output_type": "execute_result"
    }
   ],
   "source": [
    "train['remarks'].value_counts()"
   ]
  },
  {
   "cell_type": "code",
   "execution_count": 89,
   "id": "f68a84a8-6cd8-43d9-a8be-254d2b7150af",
   "metadata": {},
   "outputs": [
    {
     "data": {
      "text/html": [
       "<div>\n",
       "<style scoped>\n",
       "    .dataframe tbody tr th:only-of-type {\n",
       "        vertical-align: middle;\n",
       "    }\n",
       "\n",
       "    .dataframe tbody tr th {\n",
       "        vertical-align: top;\n",
       "    }\n",
       "\n",
       "    .dataframe thead th {\n",
       "        text-align: right;\n",
       "    }\n",
       "</style>\n",
       "<table border=\"1\" class=\"dataframe\">\n",
       "  <thead>\n",
       "    <tr style=\"text-align: right;\">\n",
       "      <th></th>\n",
       "      <th>datetime</th>\n",
       "      <th>y</th>\n",
       "      <th>week</th>\n",
       "      <th>soldout</th>\n",
       "      <th>name</th>\n",
       "      <th>kcal</th>\n",
       "      <th>remarks</th>\n",
       "      <th>payday</th>\n",
       "      <th>weather</th>\n",
       "      <th>precipitation</th>\n",
       "      <th>temperature</th>\n",
       "      <th>fun</th>\n",
       "      <th>in_curry</th>\n",
       "      <th>event_キャリアアップ支援セミナー</th>\n",
       "      <th>event_ママの会</th>\n",
       "      <th>event_nan</th>\n",
       "    </tr>\n",
       "  </thead>\n",
       "  <tbody>\n",
       "    <tr>\n",
       "      <th>188</th>\n",
       "      <td>2014-9-2</td>\n",
       "      <td>68</td>\n",
       "      <td>火</td>\n",
       "      <td>1</td>\n",
       "      <td>名古屋味噌カツ</td>\n",
       "      <td>440.0</td>\n",
       "      <td>手作りの味</td>\n",
       "      <td>0.0</td>\n",
       "      <td>晴れ</td>\n",
       "      <td>0</td>\n",
       "      <td>29.1</td>\n",
       "      <td>0</td>\n",
       "      <td>0</td>\n",
       "      <td>0</td>\n",
       "      <td>0</td>\n",
       "      <td>1</td>\n",
       "    </tr>\n",
       "  </tbody>\n",
       "</table>\n",
       "</div>"
      ],
      "text/plain": [
       "     datetime   y week  soldout     name   kcal remarks  payday weather  \\\n",
       "188  2014-9-2  68    火        1  名古屋味噌カツ  440.0   手作りの味     0.0      晴れ   \n",
       "\n",
       "    precipitation  temperature  fun  in_curry  event_キャリアアップ支援セミナー  \\\n",
       "188             0         29.1    0         0                    0   \n",
       "\n",
       "     event_ママの会  event_nan  \n",
       "188           0          1  "
      ]
     },
     "execution_count": 89,
     "metadata": {},
     "output_type": "execute_result"
    }
   ],
   "source": [
    "train[train['remarks']=='手作りの味']"
   ]
  },
  {
   "cell_type": "code",
   "execution_count": 83,
   "id": "d9b9a1a6-9842-4ab3-9d31-b2d3a7a92b05",
   "metadata": {},
   "outputs": [
    {
     "data": {
      "text/html": [
       "<div>\n",
       "<style scoped>\n",
       "    .dataframe tbody tr th:only-of-type {\n",
       "        vertical-align: middle;\n",
       "    }\n",
       "\n",
       "    .dataframe tbody tr th {\n",
       "        vertical-align: top;\n",
       "    }\n",
       "\n",
       "    .dataframe thead th {\n",
       "        text-align: right;\n",
       "    }\n",
       "</style>\n",
       "<table border=\"1\" class=\"dataframe\">\n",
       "  <thead>\n",
       "    <tr style=\"text-align: right;\">\n",
       "      <th></th>\n",
       "      <th>datetime</th>\n",
       "      <th>y</th>\n",
       "      <th>week</th>\n",
       "      <th>soldout</th>\n",
       "      <th>name</th>\n",
       "      <th>kcal</th>\n",
       "      <th>remarks</th>\n",
       "      <th>payday</th>\n",
       "      <th>weather</th>\n",
       "      <th>precipitation</th>\n",
       "      <th>temperature</th>\n",
       "      <th>fun</th>\n",
       "      <th>in_curry</th>\n",
       "      <th>event_キャリアアップ支援セミナー</th>\n",
       "      <th>event_ママの会</th>\n",
       "      <th>event_nan</th>\n",
       "    </tr>\n",
       "  </thead>\n",
       "  <tbody>\n",
       "    <tr>\n",
       "      <th>1</th>\n",
       "      <td>2013-11-19</td>\n",
       "      <td>101</td>\n",
       "      <td>火</td>\n",
       "      <td>1</td>\n",
       "      <td>手作りヒレカツ</td>\n",
       "      <td>NaN</td>\n",
       "      <td>NaN</td>\n",
       "      <td>0.0</td>\n",
       "      <td>快晴</td>\n",
       "      <td>0</td>\n",
       "      <td>17.0</td>\n",
       "      <td>0</td>\n",
       "      <td>0</td>\n",
       "      <td>0</td>\n",
       "      <td>0</td>\n",
       "      <td>1</td>\n",
       "    </tr>\n",
       "    <tr>\n",
       "      <th>3</th>\n",
       "      <td>2013-11-21</td>\n",
       "      <td>120</td>\n",
       "      <td>木</td>\n",
       "      <td>1</td>\n",
       "      <td>若鶏ピリ辛焼</td>\n",
       "      <td>NaN</td>\n",
       "      <td>NaN</td>\n",
       "      <td>0.0</td>\n",
       "      <td>快晴</td>\n",
       "      <td>0</td>\n",
       "      <td>15.2</td>\n",
       "      <td>0</td>\n",
       "      <td>0</td>\n",
       "      <td>0</td>\n",
       "      <td>0</td>\n",
       "      <td>1</td>\n",
       "    </tr>\n",
       "    <tr>\n",
       "      <th>4</th>\n",
       "      <td>2013-11-22</td>\n",
       "      <td>130</td>\n",
       "      <td>金</td>\n",
       "      <td>1</td>\n",
       "      <td>ビッグメンチカツ</td>\n",
       "      <td>NaN</td>\n",
       "      <td>NaN</td>\n",
       "      <td>0.0</td>\n",
       "      <td>快晴</td>\n",
       "      <td>0</td>\n",
       "      <td>16.1</td>\n",
       "      <td>0</td>\n",
       "      <td>0</td>\n",
       "      <td>0</td>\n",
       "      <td>0</td>\n",
       "      <td>1</td>\n",
       "    </tr>\n",
       "    <tr>\n",
       "      <th>5</th>\n",
       "      <td>2013-11-25</td>\n",
       "      <td>135</td>\n",
       "      <td>月</td>\n",
       "      <td>1</td>\n",
       "      <td>鶏の唐揚</td>\n",
       "      <td>NaN</td>\n",
       "      <td>NaN</td>\n",
       "      <td>0.0</td>\n",
       "      <td>曇</td>\n",
       "      <td>0</td>\n",
       "      <td>14.6</td>\n",
       "      <td>0</td>\n",
       "      <td>0</td>\n",
       "      <td>0</td>\n",
       "      <td>0</td>\n",
       "      <td>1</td>\n",
       "    </tr>\n",
       "    <tr>\n",
       "      <th>7</th>\n",
       "      <td>2013-11-27</td>\n",
       "      <td>140</td>\n",
       "      <td>水</td>\n",
       "      <td>1</td>\n",
       "      <td>ボローニャ風カツ</td>\n",
       "      <td>NaN</td>\n",
       "      <td>NaN</td>\n",
       "      <td>0.0</td>\n",
       "      <td>晴れ</td>\n",
       "      <td>0</td>\n",
       "      <td>14.7</td>\n",
       "      <td>0</td>\n",
       "      <td>0</td>\n",
       "      <td>0</td>\n",
       "      <td>0</td>\n",
       "      <td>1</td>\n",
       "    </tr>\n",
       "    <tr>\n",
       "      <th>...</th>\n",
       "      <td>...</td>\n",
       "      <td>...</td>\n",
       "      <td>...</td>\n",
       "      <td>...</td>\n",
       "      <td>...</td>\n",
       "      <td>...</td>\n",
       "      <td>...</td>\n",
       "      <td>...</td>\n",
       "      <td>...</td>\n",
       "      <td>...</td>\n",
       "      <td>...</td>\n",
       "      <td>...</td>\n",
       "      <td>...</td>\n",
       "      <td>...</td>\n",
       "      <td>...</td>\n",
       "      <td>...</td>\n",
       "    </tr>\n",
       "    <tr>\n",
       "      <th>188</th>\n",
       "      <td>2014-9-2</td>\n",
       "      <td>68</td>\n",
       "      <td>火</td>\n",
       "      <td>1</td>\n",
       "      <td>名古屋味噌カツ</td>\n",
       "      <td>440.0</td>\n",
       "      <td>手作りの味</td>\n",
       "      <td>0.0</td>\n",
       "      <td>晴れ</td>\n",
       "      <td>0</td>\n",
       "      <td>29.1</td>\n",
       "      <td>0</td>\n",
       "      <td>0</td>\n",
       "      <td>0</td>\n",
       "      <td>0</td>\n",
       "      <td>1</td>\n",
       "    </tr>\n",
       "    <tr>\n",
       "      <th>190</th>\n",
       "      <td>2014-9-4</td>\n",
       "      <td>54</td>\n",
       "      <td>木</td>\n",
       "      <td>1</td>\n",
       "      <td>チキンステーキ・きのこソース</td>\n",
       "      <td>405.0</td>\n",
       "      <td>NaN</td>\n",
       "      <td>0.0</td>\n",
       "      <td>曇</td>\n",
       "      <td>0</td>\n",
       "      <td>26.5</td>\n",
       "      <td>0</td>\n",
       "      <td>0</td>\n",
       "      <td>0</td>\n",
       "      <td>0</td>\n",
       "      <td>1</td>\n",
       "    </tr>\n",
       "    <tr>\n",
       "      <th>192</th>\n",
       "      <td>2014-9-8</td>\n",
       "      <td>68</td>\n",
       "      <td>月</td>\n",
       "      <td>1</td>\n",
       "      <td>鶏肉の山賊焼き</td>\n",
       "      <td>385.0</td>\n",
       "      <td>NaN</td>\n",
       "      <td>0.0</td>\n",
       "      <td>曇</td>\n",
       "      <td>0</td>\n",
       "      <td>23.1</td>\n",
       "      <td>0</td>\n",
       "      <td>0</td>\n",
       "      <td>0</td>\n",
       "      <td>0</td>\n",
       "      <td>1</td>\n",
       "    </tr>\n",
       "    <tr>\n",
       "      <th>202</th>\n",
       "      <td>2014-9-24</td>\n",
       "      <td>59</td>\n",
       "      <td>水</td>\n",
       "      <td>1</td>\n",
       "      <td>白身魚のマスタード焼き</td>\n",
       "      <td>408.0</td>\n",
       "      <td>NaN</td>\n",
       "      <td>0.0</td>\n",
       "      <td>曇</td>\n",
       "      <td>0</td>\n",
       "      <td>24.8</td>\n",
       "      <td>0</td>\n",
       "      <td>0</td>\n",
       "      <td>0</td>\n",
       "      <td>0</td>\n",
       "      <td>1</td>\n",
       "    </tr>\n",
       "    <tr>\n",
       "      <th>205</th>\n",
       "      <td>2014-9-29</td>\n",
       "      <td>56</td>\n",
       "      <td>月</td>\n",
       "      <td>1</td>\n",
       "      <td>豚肉と玉子の炒め</td>\n",
       "      <td>404.0</td>\n",
       "      <td>NaN</td>\n",
       "      <td>0.0</td>\n",
       "      <td>快晴</td>\n",
       "      <td>0</td>\n",
       "      <td>26.6</td>\n",
       "      <td>0</td>\n",
       "      <td>0</td>\n",
       "      <td>0</td>\n",
       "      <td>0</td>\n",
       "      <td>1</td>\n",
       "    </tr>\n",
       "  </tbody>\n",
       "</table>\n",
       "<p>93 rows × 16 columns</p>\n",
       "</div>"
      ],
      "text/plain": [
       "       datetime    y week  soldout            name   kcal remarks  payday  \\\n",
       "1    2013-11-19  101    火        1         手作りヒレカツ    NaN     NaN     0.0   \n",
       "3    2013-11-21  120    木        1          若鶏ピリ辛焼    NaN     NaN     0.0   \n",
       "4    2013-11-22  130    金        1        ビッグメンチカツ    NaN     NaN     0.0   \n",
       "5    2013-11-25  135    月        1            鶏の唐揚    NaN     NaN     0.0   \n",
       "7    2013-11-27  140    水        1        ボローニャ風カツ    NaN     NaN     0.0   \n",
       "..          ...  ...  ...      ...             ...    ...     ...     ...   \n",
       "188    2014-9-2   68    火        1         名古屋味噌カツ  440.0   手作りの味     0.0   \n",
       "190    2014-9-4   54    木        1  チキンステーキ・きのこソース  405.0     NaN     0.0   \n",
       "192    2014-9-8   68    月        1         鶏肉の山賊焼き  385.0     NaN     0.0   \n",
       "202   2014-9-24   59    水        1     白身魚のマスタード焼き  408.0     NaN     0.0   \n",
       "205   2014-9-29   56    月        1        豚肉と玉子の炒め  404.0     NaN     0.0   \n",
       "\n",
       "    weather precipitation  temperature  fun  in_curry  event_キャリアアップ支援セミナー  \\\n",
       "1        快晴             0         17.0    0         0                    0   \n",
       "3        快晴             0         15.2    0         0                    0   \n",
       "4        快晴             0         16.1    0         0                    0   \n",
       "5         曇             0         14.6    0         0                    0   \n",
       "7        晴れ             0         14.7    0         0                    0   \n",
       "..      ...           ...          ...  ...       ...                  ...   \n",
       "188      晴れ             0         29.1    0         0                    0   \n",
       "190       曇             0         26.5    0         0                    0   \n",
       "192       曇             0         23.1    0         0                    0   \n",
       "202       曇             0         24.8    0         0                    0   \n",
       "205      快晴             0         26.6    0         0                    0   \n",
       "\n",
       "     event_ママの会  event_nan  \n",
       "1             0          1  \n",
       "3             0          1  \n",
       "4             0          1  \n",
       "5             0          1  \n",
       "7             0          1  \n",
       "..          ...        ...  \n",
       "188           0          1  \n",
       "190           0          1  \n",
       "192           0          1  \n",
       "202           0          1  \n",
       "205           0          1  \n",
       "\n",
       "[93 rows x 16 columns]"
      ]
     },
     "execution_count": 83,
     "metadata": {},
     "output_type": "execute_result"
    }
   ],
   "source": [
    "train.query('soldout==1')"
   ]
  },
  {
   "cell_type": "code",
   "execution_count": 7,
   "id": "871b2127",
   "metadata": {},
   "outputs": [],
   "source": [
    "#train['temperature'].value_counts()\n",
    "train['precipitation'] = train['precipitation'].apply(lambda x: '0' if x=='--' else x)"
   ]
  },
  {
   "cell_type": "code",
   "execution_count": 8,
   "id": "3fcb7317",
   "metadata": {},
   "outputs": [
    {
     "data": {
      "text/plain": [
       "array(['0', '0.5', '1.5', '1', '6', '6.5', '2.5'], dtype=object)"
      ]
     },
     "execution_count": 8,
     "metadata": {},
     "output_type": "execute_result"
    }
   ],
   "source": [
    "# 湿度'--'の置換\n",
    "train['precipitation'].unique()"
   ]
  },
  {
   "cell_type": "code",
   "execution_count": 99,
   "id": "9df12c6e",
   "metadata": {},
   "outputs": [],
   "source": [
    "# remarks カラム\n",
    "def jisaku1(x):\n",
    "    if x == 'お楽しみメニュー':\n",
    "        return 1\n",
    "    else:\n",
    "        return 0\n",
    "\n",
    "def cooking_papas_menu(x):\n",
    "    if x == '料理長のこだわりメニュー':\n",
    "        return 1\n",
    "    else:\n",
    "        return 0\n",
    "    \n",
    "def is_curry(x):\n",
    "    if 'カレー' in x:\n",
    "        return 1\n",
    "    else:\n",
    "        return 0"
   ]
  },
  {
   "cell_type": "code",
   "execution_count": 10,
   "id": "8a26a393",
   "metadata": {},
   "outputs": [],
   "source": [
    "train['fun'] = train['remarks'].apply(lambda x: jisaku1(x))\n",
    "test['fun'] = test['remarks'].apply(lambda x: jisaku1(x))"
   ]
  },
  {
   "cell_type": "code",
   "execution_count": 100,
   "id": "1833c34e-b8e7-43bd-bf77-3ccbb323baca",
   "metadata": {},
   "outputs": [],
   "source": [
    "train['kodawari_menu'] = train['remarks'].apply(lambda x: cooking_papas_menu(x))\n",
    "test['kodawari_menu'] = test['remarks'].apply(lambda x: cooking_papas_menu(x))"
   ]
  },
  {
   "cell_type": "code",
   "execution_count": 31,
   "id": "21c4ea9c",
   "metadata": {},
   "outputs": [
    {
     "name": "stdout",
     "output_type": "stream",
     "text": [
      "<class 'pandas.core.series.Series'>\n"
     ]
    }
   ],
   "source": [
    "# 'カレー'という文字が入ってるか調べる\n",
    "#train['name'][train['name'].str.contains('カレー')]\n",
    "#train['name'].str.contains('カレー')\n",
    "print(type(train['name'].str.contains('カレー')))"
   ]
  },
  {
   "cell_type": "code",
   "execution_count": 38,
   "id": "5d319dc9-a974-4188-bfc5-3845daa4b94d",
   "metadata": {},
   "outputs": [],
   "source": [
    "train['in_curry'] = train['name'].apply(lambda x: is_curry(x))\n",
    "test['in_curry'] = test['name'].apply(lambda x: is_curry(x))"
   ]
  },
  {
   "cell_type": "code",
   "execution_count": 43,
   "id": "fd6f90ee-0b85-4152-8449-b6604cf82d60",
   "metadata": {},
   "outputs": [
    {
     "name": "stdout",
     "output_type": "stream",
     "text": [
      "0    190\n",
      "1     17\n",
      "Name: in_curry, dtype: int64\n",
      "0    37\n",
      "1     3\n",
      "Name: in_curry, dtype: int64\n"
     ]
    }
   ],
   "source": [
    "print(train['in_curry'].value_counts())\n",
    "print(test['in_curry'].value_counts())"
   ]
  },
  {
   "cell_type": "code",
   "execution_count": null,
   "id": "f823383b-6ef0-4a4f-9775-f6652515bd09",
   "metadata": {},
   "outputs": [],
   "source": []
  },
  {
   "cell_type": "code",
   "execution_count": 3,
   "id": "fa8730e7",
   "metadata": {},
   "outputs": [
    {
     "name": "stdout",
     "output_type": "stream",
     "text": [
      "x: (150, 4)\n",
      "t: (150,)\n"
     ]
    }
   ],
   "source": [
    "from sklearn.datasets import load_iris\n",
    "\n",
    "# Iris データセットの読み込み\n",
    "x, t = load_iris(return_X_y=True)\n",
    "\n",
    "print('x:', x.shape)\n",
    "print('t:', t.shape)"
   ]
  },
  {
   "cell_type": "code",
   "execution_count": 4,
   "id": "37e5600c",
   "metadata": {},
   "outputs": [],
   "source": [
    "# それぞれデータ型を変換\n",
    "x = x.astype('float32')\n",
    "t = t.astype('int32')"
   ]
  },
  {
   "cell_type": "code",
   "execution_count": 5,
   "id": "34d7dbcb",
   "metadata": {},
   "outputs": [],
   "source": [
    "# データセットを分割するモジュールの読み込み\n",
    "from sklearn.model_selection import train_test_split\n",
    "\n",
    "x_train_val, x_test, t_train_val, t_test = train_test_split(x, t, test_size=0.3, random_state=0)"
   ]
  },
  {
   "cell_type": "code",
   "execution_count": 6,
   "id": "f9466c02",
   "metadata": {},
   "outputs": [],
   "source": [
    "x_train, x_val, t_train, t_val = train_test_split(x_train_val, t_train_val, test_size=0.3, random_state=0)\n"
   ]
  },
  {
   "cell_type": "code",
   "execution_count": 31,
   "id": "5d8459d5",
   "metadata": {},
   "outputs": [
    {
     "data": {
      "text/plain": [
       "105"
      ]
     },
     "execution_count": 31,
     "metadata": {},
     "output_type": "execute_result"
    }
   ],
   "source": [
    "len(x_train_val)"
   ]
  },
  {
   "cell_type": "code",
   "execution_count": 7,
   "id": "d4356fa3",
   "metadata": {},
   "outputs": [],
   "source": [
    "import chainer.links as L\n",
    "import chainer.functions as F"
   ]
  },
  {
   "cell_type": "code",
   "execution_count": 11,
   "id": "03d37350",
   "metadata": {},
   "outputs": [],
   "source": [
    "# 入力次元数が 3、出力次元数が 2 の全結合層\n",
    "l = L.Linear(3, 2)\n"
   ]
  },
  {
   "cell_type": "code",
   "execution_count": 12,
   "id": "7acc0612",
   "metadata": {},
   "outputs": [],
   "source": [
    "from chainer import Sequential\n",
    "\n",
    "# net としてインスタンス化\n",
    "n_input = 4\n",
    "n_hidden = 10\n",
    "n_output = 3\n",
    "\n",
    "net = Sequential(\n",
    "    L.Linear(n_input, n_hidden), F.relu,\n",
    "    L.Linear(n_hidden, n_hidden), F.relu,\n",
    "    L.Linear(n_hidden, n_output)\n",
    ")"
   ]
  },
  {
   "cell_type": "code",
   "execution_count": 13,
   "id": "b05d399c",
   "metadata": {},
   "outputs": [],
   "source": [
    "optimizer = chainer.optimizers.SGD(lr=0.01)"
   ]
  },
  {
   "cell_type": "code",
   "execution_count": 14,
   "id": "cc394232",
   "metadata": {},
   "outputs": [
    {
     "data": {
      "text/plain": [
       "<chainer.optimizers.sgd.SGD at 0x7f544426c550>"
      ]
     },
     "execution_count": 14,
     "metadata": {},
     "output_type": "execute_result"
    }
   ],
   "source": [
    "optimizer.setup(net)"
   ]
  },
  {
   "cell_type": "code",
   "execution_count": 15,
   "id": "302a1f09",
   "metadata": {},
   "outputs": [],
   "source": [
    "n_epoch = 30\n",
    "n_batchsize = 16"
   ]
  },
  {
   "cell_type": "code",
   "execution_count": 16,
   "id": "973f03b8",
   "metadata": {},
   "outputs": [],
   "source": [
    "import numpy as np"
   ]
  },
  {
   "cell_type": "code",
   "execution_count": 17,
   "id": "00edfa33",
   "metadata": {},
   "outputs": [
    {
     "name": "stdout",
     "output_type": "stream",
     "text": [
      "epoch: 0, iteration: 5, loss (train): 1.8457, loss (valid): 1.2057\n",
      "epoch: 1, iteration: 10, loss (train): 1.1289, loss (valid): 1.0227\n",
      "epoch: 2, iteration: 15, loss (train): 0.9660, loss (valid): 1.0376\n",
      "epoch: 3, iteration: 20, loss (train): 0.9348, loss (valid): 1.0535\n",
      "epoch: 4, iteration: 25, loss (train): 0.9404, loss (valid): 1.0309\n",
      "epoch: 5, iteration: 30, loss (train): 0.9345, loss (valid): 1.0200\n",
      "epoch: 6, iteration: 35, loss (train): 0.9142, loss (valid): 1.0038\n",
      "epoch: 7, iteration: 40, loss (train): 0.9031, loss (valid): 0.9934\n",
      "epoch: 8, iteration: 45, loss (train): 0.9028, loss (valid): 0.9528\n",
      "epoch: 9, iteration: 50, loss (train): 0.8822, loss (valid): 0.9727\n",
      "epoch: 10, iteration: 55, loss (train): 0.8757, loss (valid): 0.9379\n",
      "epoch: 11, iteration: 60, loss (train): 0.8841, loss (valid): 0.9014\n",
      "epoch: 12, iteration: 65, loss (train): 0.8608, loss (valid): 0.9095\n",
      "epoch: 13, iteration: 70, loss (train): 0.8446, loss (valid): 0.9032\n",
      "epoch: 14, iteration: 75, loss (train): 0.8446, loss (valid): 0.8833\n",
      "epoch: 15, iteration: 80, loss (train): 0.8267, loss (valid): 0.8701\n",
      "epoch: 16, iteration: 85, loss (train): 0.8105, loss (valid): 0.8631\n",
      "epoch: 17, iteration: 90, loss (train): 0.8132, loss (valid): 0.8369\n",
      "epoch: 18, iteration: 95, loss (train): 0.7952, loss (valid): 0.8270\n",
      "epoch: 19, iteration: 100, loss (train): 0.7717, loss (valid): 0.7914\n",
      "epoch: 20, iteration: 105, loss (train): 0.7679, loss (valid): 0.7841\n",
      "epoch: 21, iteration: 110, loss (train): 0.7545, loss (valid): 0.7633\n",
      "epoch: 22, iteration: 115, loss (train): 0.7407, loss (valid): 0.7579\n",
      "epoch: 23, iteration: 120, loss (train): 0.7281, loss (valid): 0.7331\n",
      "epoch: 24, iteration: 125, loss (train): 0.7099, loss (valid): 0.7099\n",
      "epoch: 25, iteration: 130, loss (train): 0.7000, loss (valid): 0.6956\n",
      "epoch: 26, iteration: 135, loss (train): 0.6778, loss (valid): 0.6712\n",
      "epoch: 27, iteration: 140, loss (train): 0.6624, loss (valid): 0.6653\n",
      "epoch: 28, iteration: 145, loss (train): 0.6495, loss (valid): 0.6406\n",
      "epoch: 29, iteration: 150, loss (train): 0.6499, loss (valid): 0.6221\n"
     ]
    }
   ],
   "source": [
    "iteration = 0\n",
    "\n",
    "# ログの保存用\n",
    "results_train = {\n",
    "    'loss': [],\n",
    "    'accuracy': []\n",
    "}\n",
    "results_valid = {\n",
    "    'loss': [],\n",
    "    'accuracy': []\n",
    "}\n",
    "\n",
    "\n",
    "for epoch in range(n_epoch):\n",
    "\n",
    "    # データセット並べ替えた順番を取得\n",
    "    order = np.random.permutation(range(len(x_train)))\n",
    "\n",
    "    # 各バッチ毎の目的関数の出力と分類精度の保存用\n",
    "    loss_list = []\n",
    "    accuracy_list = []\n",
    "\n",
    "    for i in range(0, len(order), n_batchsize):\n",
    "        # バッチを準備\n",
    "        index = order[i:i+n_batchsize]\n",
    "        x_train_batch = x_train[index,:]\n",
    "        t_train_batch = t_train[index]\n",
    "\n",
    "        # 予測値を出力\n",
    "        y_train_batch = net(x_train_batch)\n",
    "\n",
    "        # 目的関数を適用し、分類精度を計算\n",
    "        loss_train_batch = F.softmax_cross_entropy(y_train_batch, t_train_batch)\n",
    "        accuracy_train_batch = F.accuracy(y_train_batch, t_train_batch)\n",
    "\n",
    "        loss_list.append(loss_train_batch.array)\n",
    "        accuracy_list.append(accuracy_train_batch.array)\n",
    "\n",
    "        # 勾配のリセットと勾配の計算\n",
    "        net.cleargrads()\n",
    "        loss_train_batch.backward()\n",
    "\n",
    "        # パラメータの更新\n",
    "        optimizer.update()\n",
    "\n",
    "        # カウントアップ\n",
    "        iteration += 1\n",
    "\n",
    "    # 訓練データに対する目的関数の出力と分類精度を集計\n",
    "    loss_train = np.mean(loss_list)\n",
    "    accuracy_train = np.mean(accuracy_list)\n",
    "\n",
    "    # 1エポック終えたら、検証データで評価\n",
    "    # 検証データで予測値を出力\n",
    "    with chainer.using_config('train', False), chainer.using_config('enable_backprop', False):\n",
    "        y_val = net(x_val)\n",
    "\n",
    "    # 目的関数を適用し、分類精度を計算\n",
    "    loss_val = F.softmax_cross_entropy(y_val, t_val)\n",
    "    accuracy_val = F.accuracy(y_val, t_val)\n",
    "\n",
    "    # 結果の表示\n",
    "    print('epoch: {}, iteration: {}, loss (train): {:.4f}, loss (valid): {:.4f}'.format(\n",
    "        epoch, iteration, loss_train, loss_val.array))\n",
    "\n",
    "    # ログを保存\n",
    "    results_train['loss'] .append(loss_train)\n",
    "    results_train['accuracy'] .append(accuracy_train)\n",
    "    results_valid['loss'].append(loss_val.array)\n",
    "    results_valid['accuracy'].append(accuracy_val.array)"
   ]
  },
  {
   "cell_type": "code",
   "execution_count": 18,
   "id": "573e30a1",
   "metadata": {},
   "outputs": [],
   "source": [
    "%matplotlib inline\n",
    "import matplotlib.pyplot as plt\n"
   ]
  },
  {
   "cell_type": "code",
   "execution_count": 19,
   "id": "ac74564c",
   "metadata": {},
   "outputs": [
    {
     "data": {
      "text/plain": [
       "<matplotlib.legend.Legend at 0x7f53f9fd66d8>"
      ]
     },
     "execution_count": 19,
     "metadata": {},
     "output_type": "execute_result"
    },
    {
     "data": {
      "image/png": "[encoded data removed]",
      "text/plain": [
       "<Figure size 432x288 with 1 Axes>"
      ]
     },
     "metadata": {
      "needs_background": "light"
     },
     "output_type": "display_data"
    }
   ],
   "source": [
    "# 目的関数の出力 (loss)\n",
    "plt.plot(results_train['loss'], label='train')  # label で凡例の設定\n",
    "plt.plot(results_valid['loss'], label='valid')  # label で凡例の設定\n",
    "plt.legend()  # 凡例の表示"
   ]
  },
  {
   "cell_type": "code",
   "execution_count": 20,
   "id": "e9e6cb72",
   "metadata": {},
   "outputs": [
    {
     "data": {
      "text/plain": [
       "<matplotlib.legend.Legend at 0x7f53f9ee56d8>"
      ]
     },
     "execution_count": 20,
     "metadata": {},
     "output_type": "execute_result"
    },
    {
     "data": {
      "image/png": "[encoded data removed]",
      "text/plain": [
       "<Figure size 432x288 with 1 Axes>"
      ]
     },
     "metadata": {
      "needs_background": "light"
     },
     "output_type": "display_data"
    }
   ],
   "source": [
    "# 分類精度 (accuracy)\n",
    "plt.plot(results_train['accuracy'], label='train')  # label で凡例の設定\n",
    "plt.plot(results_valid['accuracy'], label='valid')  # label で凡例の設定\n",
    "plt.legend()  # 凡例の表示"
   ]
  },
  {
   "cell_type": "code",
   "execution_count": 21,
   "id": "14efee3c",
   "metadata": {},
   "outputs": [],
   "source": [
    "# テストデータで予測値を計算\n",
    "with chainer.using_config('train', False), chainer.using_config('enable_backprop', False):\n",
    "    y_test = net(x_test)"
   ]
  },
  {
   "cell_type": "code",
   "execution_count": 22,
   "id": "0b079e89",
   "metadata": {},
   "outputs": [
    {
     "data": {
      "text/plain": [
       "array(0.73333335, dtype=float32)"
      ]
     },
     "execution_count": 22,
     "metadata": {},
     "output_type": "execute_result"
    }
   ],
   "source": [
    "accuracy_test = F.accuracy(y_test, t_test)\n",
    "accuracy_test.array"
   ]
  },
  {
   "cell_type": "code",
   "execution_count": 23,
   "id": "afe19c80",
   "metadata": {},
   "outputs": [],
   "source": [
    "chainer.serializers.save_npz('my_iris.net', net)"
   ]
  },
  {
   "cell_type": "code",
   "execution_count": 24,
   "id": "0b2fba14",
   "metadata": {},
   "outputs": [],
   "source": [
    "# 14.4. 訓練済みネットワークを用いた推論\n",
    "loaded_net = Sequential(\n",
    "    L.Linear(n_input, n_hidden), F.relu,\n",
    "    L.Linear(n_hidden, n_hidden), F.relu,\n",
    "    L.Linear(n_hidden, n_output)\n",
    ")"
   ]
  },
  {
   "cell_type": "code",
   "execution_count": 25,
   "id": "fff714ae",
   "metadata": {},
   "outputs": [],
   "source": [
    "chainer.serializers.load_npz('my_iris.net', loaded_net)"
   ]
  },
  {
   "cell_type": "code",
   "execution_count": 26,
   "id": "0250b99d",
   "metadata": {},
   "outputs": [],
   "source": [
    "with chainer.using_config('train', False), chainer.using_config('enable_backprop', False):\n",
    "    y_test = loaded_net(x_test)"
   ]
  },
  {
   "cell_type": "code",
   "execution_count": 27,
   "id": "62630e56",
   "metadata": {},
   "outputs": [
    {
     "data": {
      "text/plain": [
       "2"
      ]
     },
     "execution_count": 27,
     "metadata": {},
     "output_type": "execute_result"
    }
   ],
   "source": [
    "np.argmax(y_test[0,:].array)"
   ]
  },
  {
   "cell_type": "code",
   "execution_count": null,
   "id": "0a6e48ba",
   "metadata": {},
   "outputs": [],
   "source": []
  }
 ],
 "metadata": {
  "kernelspec": {
   "display_name": "Python 3 (ipykernel)",
   "language": "python",
   "name": "python3"
  },
  "language_info": {
   "codemirror_mode": {
    "name": "ipython",
    "version": 3
   },
   "file_extension": ".py",
   "mimetype": "text/x-python",
   "name": "python",
   "nbconvert_exporter": "python",
   "pygments_lexer": "ipython3",
   "version": "3.10.4"
  }
 },
 "nbformat": 4,
 "nbformat_minor": 5
}
