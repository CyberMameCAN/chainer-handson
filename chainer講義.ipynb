{
 "cells": [
  {
   "cell_type": "code",
   "execution_count": 1,
   "metadata": {},
   "outputs": [],
   "source": [
    "import chainer as ch\n",
    "import numpy as np\n",
    "\n",
    "ch.config.debug = True"
   ]
  },
  {
   "cell_type": "code",
   "execution_count": 2,
   "metadata": {},
   "outputs": [
    {
     "name": "stdout",
     "output_type": "stream",
     "text": [
      "Platform: Linux-5.4.0-81-generic-x86_64-with-Ubuntu-18.04-bionic\n",
      "Chainer: 7.8.0\n",
      "ChainerX: Not Available\n",
      "NumPy: 1.19.5\n",
      "CuPy:\n",
      "  CuPy Version          : 7.8.0\n",
      "  CUDA Root             : /usr/local/cuda\n",
      "  CUDA Build Version    : 10010\n",
      "  CUDA Driver Version   : 11010\n",
      "  CUDA Runtime Version  : 10010\n",
      "  cuBLAS Version        : 10201\n",
      "  cuFFT Version         : 10101\n",
      "  cuRAND Version        : 10101\n",
      "  cuSOLVER Version      : (10, 2, 0)\n",
      "  cuSPARSE Version      : 10300\n",
      "  NVRTC Version         : (10, 1)\n",
      "  cuDNN Build Version   : 7605\n",
      "  cuDNN Version         : 7605\n",
      "  NCCL Build Version    : 2708\n",
      "  NCCL Runtime Version  : 2708\n",
      "  CUB Version           : None\n",
      "  cuTENSOR Version      : None\n",
      "iDeep: Not Available\n",
      "None\n"
     ]
    }
   ],
   "source": [
    "print(ch.print_runtime_info())"
   ]
  },
  {
   "cell_type": "code",
   "execution_count": 3,
   "metadata": {},
   "outputs": [
    {
     "name": "stderr",
     "output_type": "stream",
     "text": [
      "/usr/local/lib/python3.6/dist-packages/numpy/core/_asarray.py:83: VisibleDeprecationWarning: Creating an ndarray from ragged nested sequences (which is a list-or-tuple of lists-or-tuples-or ndarrays with different lengths or shapes) is deprecated. If you meant to do this, you must specify 'dtype=object' when creating the ndarray\n",
      "  return array(a, dtype, copy=False, order=order)\n"
     ]
    },
    {
     "name": "stdout",
     "output_type": "stream",
     "text": [
      "Shape of train (50000, 2)\n",
      "Shape of x (784,)\n",
      "Some raw x [0.8862746  0.83921576 0.8745099  0.97647065 0.7176471  0.75294125\n",
      " 0.9725491  0.23529413 0.2509804  0.54509807 0.4901961  0.45098042\n",
      " 0.16078432 0.2509804  0.53333336 0.94117653 0.7019608  0.61960787\n",
      " 0.9294118  0.8980393 ]\n"
     ]
    },
    {
     "data": {
      "image/png": "[encoded data removed]",
      "text/plain": [
       "<Figure size 432x288 with 1 Axes>"
      ]
     },
     "metadata": {
      "needs_background": "light"
     },
     "output_type": "display_data"
    },
    {
     "name": "stdout",
     "output_type": "stream",
     "text": [
      "label: T-shirt/top\n"
     ]
    }
   ],
   "source": [
    "from chainer.datasets.fashion_mnist import get_fashion_mnist\n",
    "\n",
    "labels = ['T-shirt/top', 'Trouser', 'Pullover', 'Dress', 'Coat', 'Sandal', 'Shirt', 'Sneaker', 'Bag', 'Ankleboot']\n",
    "\n",
    "train, test = get_fashion_mnist(withlabel=True, ndim=1)\n",
    "train, valid = ch.datasets.split_dataset_random(train, 50000, seed=0)\n",
    "\n",
    "%matplotlib inline\n",
    "import matplotlib.pyplot as plt\n",
    "\n",
    "x, t = train[0]\n",
    "\n",
    "print('Shape of train', np.shape(train))\n",
    "print('Shape of x', x.shape)\n",
    "print('Some raw x', x[200:220])\n",
    "\n",
    "plt.imshow(x.reshape(28, 28), cmap='gray')\n",
    "plt.show()\n",
    "print('label:', labels[t])"
   ]
  },
  {
   "cell_type": "code",
   "execution_count": 4,
   "metadata": {},
   "outputs": [
    {
     "data": {
      "text/plain": [
       "<chainer.datasets.sub_dataset.SubDataset at 0x7f7422e15f98>"
      ]
     },
     "execution_count": 4,
     "metadata": {},
     "output_type": "execute_result"
    }
   ],
   "source": [
    "train"
   ]
  },
  {
   "cell_type": "code",
   "execution_count": 5,
   "metadata": {},
   "outputs": [],
   "source": [
    "from chainer import iterators\n",
    "\n",
    "batchsize = 128\n",
    "\n",
    "train_iter = iterators.SerialIterator(train, batchsize)\n",
    "valid_iter = iterators.SerialIterator(valid, batchsize, repeat=False, shuffle=False)\n",
    "test_iter = iterators.SerialIterator(test, batchsize, repeat=False, shuffle=False)"
   ]
  },
  {
   "cell_type": "code",
   "execution_count": 6,
   "metadata": {},
   "outputs": [],
   "source": [
    "import chainer.functions as F\n",
    "import chainer.links as L"
   ]
  },
  {
   "cell_type": "code",
   "execution_count": 7,
   "metadata": {},
   "outputs": [],
   "source": [
    "# multilayer perceptron\n",
    "def MLP():\n",
    "    layer = ch.Sequential(L.Linear(100), F.relu)\n",
    "    model = layer.repeat(3)\n",
    "    model.append(L.Linear(10))\n",
    "    \n",
    "    return model"
   ]
  },
  {
   "cell_type": "code",
   "execution_count": 8,
   "metadata": {},
   "outputs": [],
   "source": [
    "class MLP2(ch.Chain):\n",
    "    def __init__(self, n_hid=100, n_out=10):\n",
    "        super().__init__()\n",
    "        with self.init_scope():\n",
    "            #self.l1 = L.Linear(None, n_hid)\n",
    "            #self.l2 = L.Linear(n_hid, n_hid)\n",
    "            #self.l3 = L.Linear(n_hid, n_out)\n",
    "            \n",
    "            # swish\n",
    "            self.l1 = L.Linear(None, n_hid)\n",
    "            self.s1 = L.Swish(None)\n",
    "            self.l2 = L.Linear(None, n_hid)\n",
    "            self.s2 = L.Swish(None)\n",
    "            self.l3 = L.Linear(None, n_out)\n",
    "\n",
    "    \n",
    "    # フォワードプロパゲーションの__call__\n",
    "    def __call__(self, x):\n",
    "        #hid = F.relu(self.l1(x))\n",
    "        #hid = F.relu(self.l2(hid))\n",
    "        #hid = self.l3(hid)\n",
    "        #\n",
    "        #return hid\n",
    "        \n",
    "        # swish\n",
    "        h1 = self.s1(self.l1(x))\n",
    "        h2 = self.s2(self.l2(h1))\n",
    "        return self.l3(h2)"
   ]
  },
  {
   "cell_type": "code",
   "execution_count": 9,
   "metadata": {},
   "outputs": [],
   "source": [
    "# ネットワークを作成\n",
    "model = MLP()\n",
    "#model = MLP2(n_hid=100)\n",
    "\n",
    "# structure のチェック\n",
    "#print(model.flatten())\n",
    "\n",
    "# L.Classifierでラップし、損失の計算などをモデルに含める\n",
    "model_loss = L.Classifier(model)\n",
    "\n",
    "gpu_id = 0\n",
    "\n",
    "if gpu_id >= 0:\n",
    "    model_loss.to_gpu(gpu_id)"
   ]
  },
  {
   "cell_type": "code",
   "execution_count": 10,
   "metadata": {},
   "outputs": [],
   "source": [
    "#print(model_loss)"
   ]
  },
  {
   "cell_type": "code",
   "execution_count": 11,
   "metadata": {},
   "outputs": [],
   "source": [
    "# 最適化(optimizer)アルゴリズムの選択　最適化手法を選択してオプチマイザを作成し、最適化対象のネットワークを持たせる\n",
    "optimizer = ch.optimizers.Adam().setup(model_loss)\n",
    "#optimizer = ch.optimizers.MomentumSGD(lr=0.1).setup(model_loss)\n",
    "#optimizer = ch.optimizers.AdaGrad().setup(model_loss)"
   ]
  },
  {
   "cell_type": "code",
   "execution_count": 12,
   "metadata": {},
   "outputs": [],
   "source": [
    "# optimizerを使って、アップデータの作成　アップデータにイテレータとオプティマイザを渡す\n",
    "updater = ch.training.StandardUpdater(train_iter, optimizer, device=gpu_id)"
   ]
  },
  {
   "cell_type": "code",
   "execution_count": 13,
   "metadata": {},
   "outputs": [],
   "source": [
    "from chainer.training import extensions as E\n",
    "\n",
    "n_epoch = 30\n",
    "\n",
    "# トレーナーのセットアップ\n",
    "trainer = ch.training.Trainer(\n",
    "    updater, (n_epoch, 'epoch'), out='result', extensions=[\n",
    "        E.Evaluator(valid_iter, model_loss, device=gpu_id),\n",
    "        E.dump_graph('main/loss'),\n",
    "        E.LogReport(),\n",
    "        E.PlotReport(['main/loss', 'validation/main/loss'],'epoch', file_name='loss.png'),\n",
    "        E.PlotReport(['main/accuracy', 'validation/main/accuracy'],'epoch', file_name='accuracy.png'),\n",
    "        E.PrintReport(['epoch', 'main/loss', 'validation/main/loss',\n",
    "                       'main/accuracy', 'validation/main/accuracy', 'elapsed_time'])\n",
    "    ]\n",
    ")"
   ]
  },
  {
   "cell_type": "code",
   "execution_count": 14,
   "metadata": {},
   "outputs": [
    {
     "name": "stdout",
     "output_type": "stream",
     "text": [
      "epoch       main/loss   validation/main/loss  main/accuracy  validation/main/accuracy  elapsed_time\n",
      "\u001b[J1           0.593675    0.472253              0.79144        0.831092                  5.21732       \n",
      "\u001b[J2           0.402727    0.405786              0.854919       0.853441                  9.93602       \n",
      "\u001b[J3           0.362331    0.38221               0.868189       0.859078                  14.6639       \n",
      "\u001b[J4           0.335495    0.390092              0.877238       0.859177                  19.4924       \n",
      "\u001b[J5           0.317669    0.351567              0.883412       0.874308                  24.1489       \n",
      "\u001b[J6           0.297916    0.345739              0.891466       0.873022                  28.6777       \n",
      "\u001b[J7           0.287891    0.32165               0.893662       0.879549                  33.2548       \n",
      "\u001b[J8           0.27215     0.34205               0.899639       0.873517                  37.8973       \n",
      "\u001b[J9           0.263319    0.344649              0.902653       0.870945                  42.558        \n",
      "\u001b[J10          0.253822    0.322257              0.90611        0.879549                  47.1057       \n",
      "\u001b[J11          0.2439      0.341428              0.908433       0.878066                  51.6372       \n",
      "\u001b[J12          0.237983    0.3392                0.911065       0.879945                  56.3307       \n",
      "\u001b[J13          0.23086     0.327291              0.914302       0.883801                  61.0048       \n",
      "\u001b[J14          0.22074     0.319405              0.917688       0.885977                  65.6035       \n",
      "\u001b[J15          0.214396    0.340426              0.920616       0.880044                  70.2974       \n",
      "\u001b[J16          0.211908    0.325892              0.919832       0.886076                  74.9421       \n",
      "\u001b[J17          0.204505    0.318613              0.923034       0.888548                  79.561        \n",
      "\u001b[J18          0.196795    0.367523              0.925292       0.880538                  84.1817       \n",
      "\u001b[J19          0.191463    0.354547              0.927244       0.878857                  89.0103       \n",
      "\u001b[J20          0.185749    0.353819              0.930007       0.880637                  93.8235       \n",
      "\u001b[J21          0.181725    0.370151              0.931186       0.882911                  98.6109       \n",
      "\u001b[J22          0.178165    0.342755              0.932191       0.886669                  103.365       \n",
      "\u001b[J23          0.171666    0.339749              0.935182       0.889339                  108.056       \n",
      "\u001b[J24          0.164761    0.360415              0.938381       0.889933                  112.742       \n",
      "\u001b[J25          0.159907    0.354186              0.938559       0.886669                  117.417       \n",
      "\u001b[J26          0.158169    0.372501              0.940457       0.883703                  122.079       \n",
      "\u001b[J27          0.155161    0.353523              0.941907       0.892801                  126.735       \n",
      "\u001b[J28          0.147551    0.379458              0.943994       0.884098                  131.421       \n",
      "\u001b[J29          0.146028    0.38421               0.944054       0.892702                  136.207       \n",
      "\u001b[J30          0.139687    0.411715              0.947656       0.884197                  140.918       \n"
     ]
    }
   ],
   "source": [
    "trainer.run()"
   ]
  },
  {
   "cell_type": "code",
   "execution_count": 15,
   "metadata": {},
   "outputs": [
    {
     "ename": "FileNotFoundError",
     "evalue": "[Errno 2] No such file or directory: 'result/cg.png'",
     "output_type": "error",
     "traceback": [
      "\u001b[0;31m---------------------------------------------------------------------------\u001b[0m",
      "\u001b[0;31mFileNotFoundError\u001b[0m                         Traceback (most recent call last)",
      "\u001b[0;32m<ipython-input-15-f4ecc63987fa>\u001b[0m in \u001b[0;36m<module>\u001b[0;34m\u001b[0m\n\u001b[1;32m      1\u001b[0m \u001b[0;32mfrom\u001b[0m \u001b[0mIPython\u001b[0m\u001b[0;34m.\u001b[0m\u001b[0mdisplay\u001b[0m \u001b[0;32mimport\u001b[0m \u001b[0mImage\u001b[0m\u001b[0;34m\u001b[0m\u001b[0;34m\u001b[0m\u001b[0m\n\u001b[1;32m      2\u001b[0m \u001b[0;34m\u001b[0m\u001b[0m\n\u001b[0;32m----> 3\u001b[0;31m \u001b[0mImage\u001b[0m\u001b[0;34m(\u001b[0m\u001b[0mfilename\u001b[0m\u001b[0;34m=\u001b[0m\u001b[0;34m'result/cg.png'\u001b[0m\u001b[0;34m)\u001b[0m\u001b[0;34m\u001b[0m\u001b[0;34m\u001b[0m\u001b[0m\n\u001b[0m",
      "\u001b[0;32m/usr/local/lib/python3.6/dist-packages/IPython/core/display.py\u001b[0m in \u001b[0;36m__init__\u001b[0;34m(self, data, url, filename, format, embed, width, height, retina, unconfined, metadata)\u001b[0m\n\u001b[1;32m   1223\u001b[0m         \u001b[0mself\u001b[0m\u001b[0;34m.\u001b[0m\u001b[0munconfined\u001b[0m \u001b[0;34m=\u001b[0m \u001b[0munconfined\u001b[0m\u001b[0;34m\u001b[0m\u001b[0;34m\u001b[0m\u001b[0m\n\u001b[1;32m   1224\u001b[0m         super(Image, self).__init__(data=data, url=url, filename=filename, \n\u001b[0;32m-> 1225\u001b[0;31m                 metadata=metadata)\n\u001b[0m\u001b[1;32m   1226\u001b[0m \u001b[0;34m\u001b[0m\u001b[0m\n\u001b[1;32m   1227\u001b[0m         \u001b[0;32mif\u001b[0m \u001b[0mself\u001b[0m\u001b[0;34m.\u001b[0m\u001b[0mwidth\u001b[0m \u001b[0;32mis\u001b[0m \u001b[0;32mNone\u001b[0m \u001b[0;32mand\u001b[0m \u001b[0mself\u001b[0m\u001b[0;34m.\u001b[0m\u001b[0mmetadata\u001b[0m\u001b[0;34m.\u001b[0m\u001b[0mget\u001b[0m\u001b[0;34m(\u001b[0m\u001b[0;34m'width'\u001b[0m\u001b[0;34m,\u001b[0m \u001b[0;34m{\u001b[0m\u001b[0;34m}\u001b[0m\u001b[0;34m)\u001b[0m\u001b[0;34m:\u001b[0m\u001b[0;34m\u001b[0m\u001b[0;34m\u001b[0m\u001b[0m\n",
      "\u001b[0;32m/usr/local/lib/python3.6/dist-packages/IPython/core/display.py\u001b[0m in \u001b[0;36m__init__\u001b[0;34m(self, data, url, filename, metadata)\u001b[0m\n\u001b[1;32m    628\u001b[0m             \u001b[0mself\u001b[0m\u001b[0;34m.\u001b[0m\u001b[0mmetadata\u001b[0m \u001b[0;34m=\u001b[0m \u001b[0;34m{\u001b[0m\u001b[0;34m}\u001b[0m\u001b[0;34m\u001b[0m\u001b[0;34m\u001b[0m\u001b[0m\n\u001b[1;32m    629\u001b[0m \u001b[0;34m\u001b[0m\u001b[0m\n\u001b[0;32m--> 630\u001b[0;31m         \u001b[0mself\u001b[0m\u001b[0;34m.\u001b[0m\u001b[0mreload\u001b[0m\u001b[0;34m(\u001b[0m\u001b[0;34m)\u001b[0m\u001b[0;34m\u001b[0m\u001b[0;34m\u001b[0m\u001b[0m\n\u001b[0m\u001b[1;32m    631\u001b[0m         \u001b[0mself\u001b[0m\u001b[0;34m.\u001b[0m\u001b[0m_check_data\u001b[0m\u001b[0;34m(\u001b[0m\u001b[0;34m)\u001b[0m\u001b[0;34m\u001b[0m\u001b[0;34m\u001b[0m\u001b[0m\n\u001b[1;32m    632\u001b[0m \u001b[0;34m\u001b[0m\u001b[0m\n",
      "\u001b[0;32m/usr/local/lib/python3.6/dist-packages/IPython/core/display.py\u001b[0m in \u001b[0;36mreload\u001b[0;34m(self)\u001b[0m\n\u001b[1;32m   1254\u001b[0m         \u001b[0;34m\"\"\"Reload the raw data from file or URL.\"\"\"\u001b[0m\u001b[0;34m\u001b[0m\u001b[0;34m\u001b[0m\u001b[0m\n\u001b[1;32m   1255\u001b[0m         \u001b[0;32mif\u001b[0m \u001b[0mself\u001b[0m\u001b[0;34m.\u001b[0m\u001b[0membed\u001b[0m\u001b[0;34m:\u001b[0m\u001b[0;34m\u001b[0m\u001b[0;34m\u001b[0m\u001b[0m\n\u001b[0;32m-> 1256\u001b[0;31m             \u001b[0msuper\u001b[0m\u001b[0;34m(\u001b[0m\u001b[0mImage\u001b[0m\u001b[0;34m,\u001b[0m\u001b[0mself\u001b[0m\u001b[0;34m)\u001b[0m\u001b[0;34m.\u001b[0m\u001b[0mreload\u001b[0m\u001b[0;34m(\u001b[0m\u001b[0;34m)\u001b[0m\u001b[0;34m\u001b[0m\u001b[0;34m\u001b[0m\u001b[0m\n\u001b[0m\u001b[1;32m   1257\u001b[0m             \u001b[0;32mif\u001b[0m \u001b[0mself\u001b[0m\u001b[0;34m.\u001b[0m\u001b[0mretina\u001b[0m\u001b[0;34m:\u001b[0m\u001b[0;34m\u001b[0m\u001b[0;34m\u001b[0m\u001b[0m\n\u001b[1;32m   1258\u001b[0m                 \u001b[0mself\u001b[0m\u001b[0;34m.\u001b[0m\u001b[0m_retina_shape\u001b[0m\u001b[0;34m(\u001b[0m\u001b[0;34m)\u001b[0m\u001b[0;34m\u001b[0m\u001b[0;34m\u001b[0m\u001b[0m\n",
      "\u001b[0;32m/usr/local/lib/python3.6/dist-packages/IPython/core/display.py\u001b[0m in \u001b[0;36mreload\u001b[0;34m(self)\u001b[0m\n\u001b[1;32m    653\u001b[0m         \u001b[0;34m\"\"\"Reload the raw data from file or URL.\"\"\"\u001b[0m\u001b[0;34m\u001b[0m\u001b[0;34m\u001b[0m\u001b[0m\n\u001b[1;32m    654\u001b[0m         \u001b[0;32mif\u001b[0m \u001b[0mself\u001b[0m\u001b[0;34m.\u001b[0m\u001b[0mfilename\u001b[0m \u001b[0;32mis\u001b[0m \u001b[0;32mnot\u001b[0m \u001b[0;32mNone\u001b[0m\u001b[0;34m:\u001b[0m\u001b[0;34m\u001b[0m\u001b[0;34m\u001b[0m\u001b[0m\n\u001b[0;32m--> 655\u001b[0;31m             \u001b[0;32mwith\u001b[0m \u001b[0mopen\u001b[0m\u001b[0;34m(\u001b[0m\u001b[0mself\u001b[0m\u001b[0;34m.\u001b[0m\u001b[0mfilename\u001b[0m\u001b[0;34m,\u001b[0m \u001b[0mself\u001b[0m\u001b[0;34m.\u001b[0m\u001b[0m_read_flags\u001b[0m\u001b[0;34m)\u001b[0m \u001b[0;32mas\u001b[0m \u001b[0mf\u001b[0m\u001b[0;34m:\u001b[0m\u001b[0;34m\u001b[0m\u001b[0;34m\u001b[0m\u001b[0m\n\u001b[0m\u001b[1;32m    656\u001b[0m                 \u001b[0mself\u001b[0m\u001b[0;34m.\u001b[0m\u001b[0mdata\u001b[0m \u001b[0;34m=\u001b[0m \u001b[0mf\u001b[0m\u001b[0;34m.\u001b[0m\u001b[0mread\u001b[0m\u001b[0;34m(\u001b[0m\u001b[0;34m)\u001b[0m\u001b[0;34m\u001b[0m\u001b[0;34m\u001b[0m\u001b[0m\n\u001b[1;32m    657\u001b[0m         \u001b[0;32melif\u001b[0m \u001b[0mself\u001b[0m\u001b[0;34m.\u001b[0m\u001b[0murl\u001b[0m \u001b[0;32mis\u001b[0m \u001b[0;32mnot\u001b[0m \u001b[0;32mNone\u001b[0m\u001b[0;34m:\u001b[0m\u001b[0;34m\u001b[0m\u001b[0;34m\u001b[0m\u001b[0m\n",
      "\u001b[0;31mFileNotFoundError\u001b[0m: [Errno 2] No such file or directory: 'result/cg.png'"
     ]
    }
   ],
   "source": [
    "from IPython.display import Image\n",
    "\n",
    "Image(filename='result/cg.png')"
   ]
  },
  {
   "cell_type": "code",
   "execution_count": 16,
   "metadata": {},
   "outputs": [
    {
     "data": {
      "image/png": "[encoded data removed]",
      "text/plain": [
       "<IPython.core.display.Image object>"
      ]
     },
     "execution_count": 16,
     "metadata": {},
     "output_type": "execute_result"
    }
   ],
   "source": [
    "Image(filename='result/loss.png')"
   ]
  },
  {
   "cell_type": "code",
   "execution_count": 17,
   "metadata": {},
   "outputs": [
    {
     "name": "stdout",
     "output_type": "stream",
     "text": [
      "Test accuracy: 0.88587815\n"
     ]
    }
   ],
   "source": [
    "test_evalutor = E.Evaluator(test_iter, model_loss, device=gpu_id)\n",
    "results = test_evalutor()\n",
    "\n",
    "print('Test accuracy:', results['main/accuracy'])"
   ]
  },
  {
   "cell_type": "code",
   "execution_count": 18,
   "metadata": {},
   "outputs": [
    {
     "name": "stdout",
     "output_type": "stream",
     "text": [
      "-rw-r--r-- 1 root root 373071  7月 15 14:43 my_mnist.model\n"
     ]
    }
   ],
   "source": [
    "from chainer import serializers\n",
    "\n",
    "serializers.save_npz('my_mnist.model', model)\n",
    "\n",
    "%ls -la my_mnist.model"
   ]
  },
  {
   "cell_type": "code",
   "execution_count": 19,
   "metadata": {},
   "outputs": [
    {
     "data": {
      "image/png": "[encoded data removed]",
      "text/plain": [
       "<Figure size 432x288 with 1 Axes>"
      ]
     },
     "metadata": {
      "needs_background": "light"
     },
     "output_type": "display_data"
    },
    {
     "name": "stdout",
     "output_type": "stream",
     "text": [
      "Ground truth: Trouser\n"
     ]
    }
   ],
   "source": [
    "infer_model = MLP()\n",
    "\n",
    "serializers.load_npz('my_mnist.model', infer_model)\n",
    "\n",
    "if gpu_id >= 0:\n",
    "    infer_model.to_gpu(gpu_id)\n",
    "    \n",
    "x, t = test[2]\n",
    "plt.imshow(x.reshape(28, 28), cmap='gray')\n",
    "plt.show()\n",
    "print('Ground truth:', labels[t])"
   ]
  },
  {
   "cell_type": "code",
   "execution_count": 20,
   "metadata": {},
   "outputs": [
    {
     "name": "stdout",
     "output_type": "stream",
     "text": [
      "(784,) -> (1, 784)\n",
      "Label values:  [[ -3.5  36.5 -28.6  -4.1 -25.8 -26.3  -5.  -43.9 -29.4 -34.6]]\n",
      "Predicted label:  Trouser\n"
     ]
    }
   ],
   "source": [
    "from chainer.cuda import to_gpu\n",
    "from chainer.cuda import to_cpu\n",
    "\n",
    "print(x.shape, end=' -> ')\n",
    "x = x[None, ...]\n",
    "print(x.shape)\n",
    "\n",
    "if gpu_id >= 0:\n",
    "    x = to_gpu(x, 0)\n",
    "    \n",
    "with ch.using_config('train', False):\n",
    "    y = infer_model(x)\n",
    "    \n",
    "y = y.data\n",
    "\n",
    "y = to_cpu(y)\n",
    "\n",
    "print('Label values: ', np.around(y, decimals=1))\n",
    "\n",
    "pred_label = y.argmax(axis=1)\n",
    "\n",
    "print('Predicted label: ', labels[pred_label[0]])"
   ]
  },
  {
   "cell_type": "code",
   "execution_count": null,
   "metadata": {},
   "outputs": [],
   "source": []
  }
 ],
 "metadata": {
  "kernelspec": {
   "display_name": "Python 3",
   "language": "python",
   "name": "python3"
  },
  "language_info": {
   "codemirror_mode": {
    "name": "ipython",
    "version": 3
   },
   "file_extension": ".py",
   "mimetype": "text/x-python",
   "name": "python",
   "nbconvert_exporter": "python",
   "pygments_lexer": "ipython3",
   "version": "3.6.9"
  }
 },
 "nbformat": 4,
 "nbformat_minor": 4
}
